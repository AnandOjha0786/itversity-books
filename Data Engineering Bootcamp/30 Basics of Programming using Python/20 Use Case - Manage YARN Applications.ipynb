{
 "cells": [
  {
   "cell_type": "markdown",
   "metadata": {},
   "source": [
    "# Use Case - Manage YARN Applications\n",
    "\n",
    "Let us go through the design and implementation of simple Python based application to manage YARN applications."
   ]
  },
  {
   "cell_type": "markdown",
   "metadata": {},
   "source": [
    "## Overview of the session\n",
    "\n",
    "Let us get an overview of what we are going to cover as part of this session.\n",
    "\n",
    "* Define Problem Statement\n",
    "* Explore Options\n",
    "* YARN REST APIs\n",
    "* Overview of JSON\n",
    "* Setup Project\n",
    "* Externalize Properties\n",
    "* Extracting Application Details\n",
    "* Manipulating Dates\n",
    "* Planning for Deployment\n"
   ]
  },
  {
   "cell_type": "markdown",
   "metadata": {},
   "source": [
    "## Define Problem Statement\n",
    "\n",
    "Let us define problem statement around manaing YARN applications.\n",
    "* In our labs we are consistenly running out of resources.\n",
    "  * People run Spark Jobs using `spark-shell` or `pyspark`. They are supposed to run the code interactively.\n",
    "  * However people just launch `spark-shell` or `pyspark` and forget to close the session.\n",
    "  * Subsequent sessions are not getting launched and we would like to get notified about long running sessions so that our admin team can take corrective action.\n",
    "* Once the framework is developed, we can additional features as well.\n",
    "  * Number of sessions launched by user.\n",
    "  * Resources used by users.\n",
    "  * Resources used by long running sessions.\n",
    "  * We can think of so many other use cases."
   ]
  },
  {
   "cell_type": "markdown",
   "metadata": {},
   "source": [
    "## Explore Options\n",
    "\n",
    "There are several ways using which we can get the details of long running sessions.\n",
    "\n",
    "* We can use command line utility called as `yarn` to get the details of the jobs.\n",
    "* It have options such as `yarn application -list` and `yarn application -status` etc to get details about YARN applications.\n",
    "* By default, `yarn application -list` will give us running jobs.\n",
    "* We can pass criteria using `-appStates` to get applications belonging to different states.\n",
    "* We can get additional information of an application using `yarn application -status` with application id.\n",
    "* YARN also provides REST APIs to get the information about YARN Applications. You can get the information from their [official page](https://hadoop.apache.org/docs/r2.7.3/hadoop-yarn/hadoop-yarn-site/ResourceManagerRest.html).\n",
    "* We will choose REST API approach as we can more features implemented as part of the application"
   ]
  },
  {
   "cell_type": "markdown",
   "metadata": {},
   "source": [
    "## YARN REST APIs\n",
    "\n",
    "Let us understand how to get the details about YARN Cluster, Applications etc.\n",
    "\n",
    "* Getting Cluster Details - `curl http://rm01.itversity.com:19088/ws/v1/cluster`\n",
    "* Getting Cluster Metrics - `curl http://rm01.itversity.com:19088/ws/v1/cluster/metrics`\n",
    "* Getting App Statistics - `curl http://rm01.itversity.com:19088/ws/v1/cluster/appstatistics`\n",
    "* Getting App Details - `curl http://rm01.itversity.com:19088/ws/v1/cluster/apps\\?states\\=running`"
   ]
  },
  {
   "cell_type": "markdown",
   "metadata": {},
   "source": [
    "## Overview of JSON\n",
    "\n",
    "Let us get an overview of JSON.\n",
    "\n",
    "* JSON stands for Java Script Object Notation.\n",
    "* Keys are unique.\n",
    "* Values can be simple objects or array or nested JSON object etc.\n",
    "* JSON is similar to Python Dict.\n",
    "* JSON is extensively used for the communication between front end and back end of a web or mobile application.\n",
    "\n",
    "```\n",
    "{\n",
    "   \"appStatInfo\":{\n",
    "      \"statItem\":[\n",
    "         {\n",
    "            \"state\":\"FINISHED\",\n",
    "            \"type\":\"*\",\n",
    "            \"count\":8\n",
    "         },\n",
    "         {\n",
    "            \"state\":\"FAILED\",\n",
    "            \"type\":\"*\",\n",
    "            \"count\":0\n",
    "         },\n",
    "         {\n",
    "            \"state\":\"NEW_SAVING\",\n",
    "            \"type\":\"*\",\n",
    "            \"count\":0\n",
    "         },\n",
    "         {\n",
    "            \"state\":\"NEW\",\n",
    "            \"type\":\"*\",\n",
    "            \"count\":0\n",
    "         },\n",
    "         {\n",
    "            \"state\":\"KILLED\",\n",
    "            \"type\":\"*\",\n",
    "            \"count\":0\n",
    "         },\n",
    "         {\n",
    "            \"state\":\"ACCEPTED\",\n",
    "            \"type\":\"*\",\n",
    "            \"count\":0\n",
    "         },\n",
    "         {\n",
    "            \"state\":\"RUNNING\",\n",
    "            \"type\":\"*\",\n",
    "            \"count\":12\n",
    "         },\n",
    "         {\n",
    "            \"state\":\"SUBMITTED\",\n",
    "            \"type\":\"*\",\n",
    "            \"count\":0\n",
    "         }\n",
    "      ]\n",
    "   }\n",
    "}\n",
    "```"
   ]
  },
  {
   "cell_type": "markdown",
   "metadata": {},
   "source": [
    "## Setup Project\n",
    "\n",
    "Let us setup the project to develop the application.\n",
    "\n",
    "* Typically we use PyCharm for the development of Python based applications.\n",
    "* It is better to have virtual environment for a Python based applications.\n",
    "* We need to install required libraries using pip - `pip install requests`.\n",
    "* We can also install using PyCharm."
   ]
  },
  {
   "cell_type": "markdown",
   "metadata": {},
   "source": [
    "## Externalize Properties\n",
    "\n",
    "Let us see how we can externalize the properties.\n",
    "\n",
    "* Create a file by name `config.py`.\n",
    "* Add this to the file."
   ]
  },
  {
   "cell_type": "code",
   "execution_count": null,
   "metadata": {},
   "outputs": [],
   "source": [
    "BASE_URI = 'http://rm01.itversity.com:19088'"
   ]
  },
  {
   "cell_type": "markdown",
   "metadata": {},
   "source": [
    "## Extracting Application Details\n",
    "\n",
    "Let us develop a function to get extracting application details."
   ]
  },
  {
   "cell_type": "code",
   "execution_count": null,
   "metadata": {},
   "outputs": [],
   "source": [
    "def get_running_jobs(uri):\n",
    "    import requests\n",
    "    running_apps = requests.get(uri).json()\n",
    "    return running_apps"
   ]
  },
  {
   "cell_type": "code",
   "execution_count": null,
   "metadata": {},
   "outputs": [],
   "source": [
    "uri = '{BASE_URI}/ws/v1/cluster/apps?states={STATE}'\n",
    "running_jobs = get_running_jobs(uri.format(BASE_URI=BASE_URI, STATE='running'))\n",
    "running_jobs"
   ]
  },
  {
   "cell_type": "code",
   "execution_count": null,
   "metadata": {},
   "outputs": [],
   "source": [
    "running_jobs['apps']['app'][0]['state']"
   ]
  },
  {
   "cell_type": "code",
   "execution_count": null,
   "metadata": {},
   "outputs": [],
   "source": [
    "running_jobs['apps']['app'][0]['startedTime']"
   ]
  },
  {
   "cell_type": "markdown",
   "metadata": {},
   "source": [
    "## Manipulating Dates\n",
    "\n",
    "Let us understand how to manipulate date and time using Python.\n",
    "\n",
    "* There are libraries such as `datetime` and `time`.\n",
    "* We can get current time using `datetime.datetime.now()`"
   ]
  },
  {
   "cell_type": "code",
   "execution_count": null,
   "metadata": {},
   "outputs": [],
   "source": [
    "import datetime\n",
    "datetime.datetime.now()"
   ]
  },
  {
   "cell_type": "markdown",
   "metadata": {},
   "source": [
    "* We can format date using `strftime`"
   ]
  },
  {
   "cell_type": "code",
   "execution_count": null,
   "metadata": {},
   "outputs": [],
   "source": [
    "import datetime\n",
    "datetime.datetime.now().strftime('%Y-%m-%d')"
   ]
  },
  {
   "cell_type": "markdown",
   "metadata": {},
   "source": [
    "* Converting a string to a date by passing specified format."
   ]
  },
  {
   "cell_type": "code",
   "execution_count": null,
   "metadata": {},
   "outputs": [],
   "source": [
    "datetime.datetime.strptime('2020-05-09', '%Y-%m-%d')"
   ]
  },
  {
   "cell_type": "markdown",
   "metadata": {},
   "source": [
    "* Converting Unix Time to a date"
   ]
  },
  {
   "cell_type": "code",
   "execution_count": null,
   "metadata": {},
   "outputs": [],
   "source": [
    "datetime.datetime.fromtimestamp(1589065394)"
   ]
  },
  {
   "cell_type": "markdown",
   "metadata": {},
   "source": [
    "* We can use `time` to get Unix timestamp of current time."
   ]
  },
  {
   "cell_type": "code",
   "execution_count": null,
   "metadata": {},
   "outputs": [],
   "source": [
    "import time\n",
    "time.time()"
   ]
  },
  {
   "cell_type": "code",
   "execution_count": null,
   "metadata": {},
   "outputs": [],
   "source": [
    "int(time.time())"
   ]
  },
  {
   "cell_type": "markdown",
   "metadata": {},
   "source": [
    "## Computing YARN Application age\n",
    "\n",
    "Let us understand how to get the age of YARN Applications.\n",
    "\n",
    "* Let us first read the details of YARN Applications which are in running state."
   ]
  },
  {
   "cell_type": "code",
   "execution_count": 50,
   "metadata": {},
   "outputs": [],
   "source": [
    "BASE_URI = 'http://rm01.itversity.com:19088'"
   ]
  },
  {
   "cell_type": "code",
   "execution_count": 51,
   "metadata": {},
   "outputs": [],
   "source": [
    "uri = '{BASE_URI}/ws/v1/cluster/apps?state={STATE}'"
   ]
  },
  {
   "cell_type": "code",
   "execution_count": 71,
   "metadata": {},
   "outputs": [],
   "source": [
    "def get_yarn_app_list(uri):\n",
    "    import requests\n",
    "    apps = requests.get(uri).json()\n",
    "    return apps['apps']['app']"
   ]
  },
  {
   "cell_type": "code",
   "execution_count": 72,
   "metadata": {},
   "outputs": [],
   "source": [
    "app_list = get_yarn_app_list(uri.format(BASE_URI=BASE_URI, STATE='running'))"
   ]
  },
  {
   "cell_type": "code",
   "execution_count": 73,
   "metadata": {},
   "outputs": [],
   "source": [
    "def get_age_in_seconds(started_time):\n",
    "    import time\n",
    "    return int(time.time()) - started_time"
   ]
  },
  {
   "cell_type": "code",
   "execution_count": 82,
   "metadata": {},
   "outputs": [],
   "source": [
    "def get_app_details(apps):\n",
    "    app_details = map(lambda app:\n",
    "            (app['id'], get_age_in_seconds(int(app['startedTime']/1000))), apps)\n",
    "    return app_details"
   ]
  },
  {
   "cell_type": "code",
   "execution_count": 88,
   "metadata": {},
   "outputs": [],
   "source": [
    "app_details = get_app_details(app_list)"
   ]
  },
  {
   "cell_type": "code",
   "execution_count": 89,
   "metadata": {},
   "outputs": [],
   "source": [
    "beyond_age = 1800"
   ]
  },
  {
   "cell_type": "code",
   "execution_count": 90,
   "metadata": {},
   "outputs": [
    {
     "data": {
      "text/plain": [
       "[('application_1589064448439_0083', 2161),\n",
       " ('application_1589064448439_0084', 2022),\n",
       " ('application_1589064448439_0085', 1908),\n",
       " ('application_1589064448439_0068', 4765),\n",
       " ('application_1589064448439_0071', 4685),\n",
       " ('application_1589064448439_0072', 4594),\n",
       " ('application_1589064448439_0074', 3820),\n",
       " ('application_1589064448439_0075', 3694),\n",
       " ('application_1589064448439_0076', 3654),\n",
       " ('application_1589064448439_0080', 3042)]"
      ]
     },
     "execution_count": 90,
     "metadata": {},
     "output_type": "execute_result"
    }
   ],
   "source": [
    "long_running_apps = filter(lambda app: app[1] > beyond_age, app_details)\n",
    "list(long_running_apps)"
   ]
  },
  {
   "cell_type": "code",
   "execution_count": 41,
   "metadata": {},
   "outputs": [],
   "source": [
    "def notify_long_running_apps(apps):\n",
    "    if len(apps) > 0:\n",
    "        for app in apps:\n",
    "            print(app)"
   ]
  },
  {
   "cell_type": "code",
   "execution_count": 49,
   "metadata": {},
   "outputs": [
    {
     "name": "stdout",
     "output_type": "stream",
     "text": [
      "('application_1589064448439_0031', 3356)\n",
      "('application_1589064448439_0034', 2999)\n",
      "('application_1589064448439_0036', 2684)\n",
      "('application_1589064448439_0042', 1986)\n",
      "('application_1589064448439_0046', 1847)\n"
     ]
    }
   ],
   "source": [
    "notify_long_running_apps(long_running_apps)"
   ]
  },
  {
   "cell_type": "markdown",
   "metadata": {},
   "source": [
    "## Planning for Deployment"
   ]
  },
  {
   "cell_type": "code",
   "execution_count": null,
   "metadata": {},
   "outputs": [],
   "source": []
  }
 ],
 "metadata": {
  "kernelspec": {
   "display_name": "Python 3",
   "language": "python",
   "name": "python3"
  },
  "language_info": {
   "codemirror_mode": {
    "name": "ipython",
    "version": 3
   },
   "file_extension": ".py",
   "mimetype": "text/x-python",
   "name": "python",
   "nbconvert_exporter": "python",
   "pygments_lexer": "ipython3",
   "version": "3.7.4"
  }
 },
 "nbformat": 4,
 "nbformat_minor": 4
}
