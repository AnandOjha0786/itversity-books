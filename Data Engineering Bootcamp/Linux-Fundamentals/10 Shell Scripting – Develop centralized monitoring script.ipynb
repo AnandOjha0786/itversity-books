{
 "cells": [
  {
   "cell_type": "markdown",
   "metadata": {},
   "source": [
    "# Shell Scripting – Develop centralized monitoring script"
   ]
  },
  {
   "cell_type": "markdown",
   "metadata": {},
   "source": [
    "Let us understand how we can develop monitoring application using shell scripting and advanced linux commands.\n",
    "* Different strategies\n",
    "    * Centralized application pulling information from other servers\n",
    "    * Agents on all servers sending information to the centralized server\n",
    "* Develop shell script which runs a given command on multiple servers and saves into files on centralized server\n",
    "    * Develop the script and test it on gw01.itversity.com\n",
    "    * We need to pass server details in a file called hosts\n",
    "    * Output file should log details into a file named after hostname\n",
    "    * Make sure information is logged properly to the log file\n",
    "* Validate script\n",
    "    * get top 5 users running most number of processes on gw02 and gw03\n",
    "    * get amount of memory free on gw02 and gw03\n",
    "    * get file system details on gw02 and gw03 (output of df)\n",
    "    \n",
    "Fixed the issues we encountered as part of the session. Issue was due to incorrect references to the arguments."
   ]
  },
  {
   "cell_type": "raw",
   "metadata": {},
   "source": [
    "USER=$1\n",
    "HOSTS=$2\n",
    "CMDS=$3\n",
    "IFS=$'\\n'\n",
    "STARTDATE=`date +'%Y-%m-%d %H:%M:%S'`\n",
    "function runCommandOnHostFromFile() {\n",
    "  USER=$1\n",
    "  HOST=$2\n",
    "  CMD=$3\n",
    "  echo \"[${STARTDATE}] Running \\\"${CMD}\\\" on ${HOST}\" >> pvc.log\n",
    "  ssh ${USER}@${HOST} \"${CMD}\" > pvc_tmp.log\n",
    "  for OUTPUT in `cat pvc_tmp.log`;\n",
    "  do\n",
    "    echo \"[${STARTDATE}]:${HOST}:${CMD}:$OUTPUT\" >> pvc.log\n",
    "  done\n",
    "}\n",
    "function runCommandOnHostFromCommand() {\n",
    "  USER=$1\n",
    "  HOST=$2\n",
    "  CMD=$3\n",
    "  echo \"[${STARTDATE}] Running \\\"${CMD}\\\" on ${HOST}\" \n",
    "  ssh ${USER}@${HOST} ${CMD} \n",
    "}\n",
    "cd /home/dgadiraju/linuxdemo\n",
    "for HOST in `cat ${HOSTS}`;\n",
    "do\n",
    "  if [ -f ${CMDS} ]; then\n",
    "    for CMD in `cat ${CMDS}`;\n",
    "    do\n",
    "      runCommandOnHostFromFile ${USER} ${HOST} ${CMD}\n",
    "    done\n",
    "  else\n",
    "    runCommandOnHostFromCommand ${USER} ${HOST} ${CMDS}\n",
    "  fi\n",
    "done\n",
    "rm -rf pvc_tmp.log"
   ]
  },
  {
   "cell_type": "code",
   "execution_count": 5,
   "metadata": {},
   "outputs": [
    {
     "name": "stdout",
     "output_type": "stream",
     "text": [
      "              total        used        free      shared  buff/cache   available\n",
      "Mem:            62G         26G         30G        3.4G        5.5G         32G\n",
      "Swap:          1.0G        1.8M        1.0G\n",
      "Filesystem      Size  Used Avail Use% Mounted on\n",
      "/dev/root       3.6T  1.1T  2.4T  31% /\n",
      "devtmpfs         32G     0   32G   0% /dev\n",
      "tmpfs            32G   12K   32G   1% /dev/shm\n",
      "tmpfs            32G  3.4G   29G  11% /run\n",
      "tmpfs            32G     0   32G   0% /sys/fs/cgroup\n",
      "tmpfs           6.3G   24K  6.3G   1% /run/user/1046\n",
      "tmpfs           6.3G   24K  6.3G   1% /run/user/1020\n",
      "tmpfs           6.3G   24K  6.3G   1% /run/user/1885\n",
      "tmpfs           6.3G   28K  6.3G   1% /run/user/1842\n",
      "tmpfs           6.3G     0  6.3G   0% /run/user/1005\n",
      "tmpfs           6.3G     0  6.3G   0% /run/user/4375\n",
      "tmpfs           6.3G     0  6.3G   0% /run/user/5429\n",
      "tmpfs           6.3G     0  6.3G   0% /run/user/1045\n",
      "tmpfs           6.3G     0  6.3G   0% /run/user/4190\n",
      "tmpfs           6.3G     0  6.3G   0% /run/user/4192\n",
      "tmpfs           6.3G     0  6.3G   0% /run/user/5513\n",
      "tmpfs           6.3G     0  6.3G   0% /run/user/5393\n",
      "tmpfs           6.3G     0  6.3G   0% /run/user/5521\n",
      "tmpfs           6.3G     0  6.3G   0% /run/user/5495\n",
      "tmpfs           6.3G     0  6.3G   0% /run/user/5176\n",
      "tmpfs           6.3G     0  6.3G   0% /run/user/5368\n",
      "tmpfs           6.3G     0  6.3G   0% /run/user/5506\n",
      "607 /etc/passwd\n"
     ]
    },
    {
     "name": "stderr",
     "output_type": "stream",
     "text": [
      "\n",
      "We trust you have received the usual lecture from the local System\n",
      "Administrator. It usually boils down to these three things:\n",
      "\n",
      "    #1) Respect the privacy of others.\n",
      "    #2) Think before you type.\n",
      "    #3) With great power comes great responsibility.\n",
      "\n",
      "sudo: no tty present and no askpass program specified\n"
     ]
    }
   ],
   "source": [
    "%%sh\n",
    "sudo ps -haxo user:50|sort|uniq -c|sort -nr|head -5\n",
    "free -h\n",
    "df -h\n",
    "wc -l /etc/passwd"
   ]
  },
  {
   "cell_type": "raw",
   "metadata": {},
   "source": [
    "pvc000\n",
    "\n",
    "pvc001\n",
    "\n",
    "pvc002\n",
    "\n",
    "pvc003\n",
    "\n",
    "pvc004\n",
    "\n",
    "pvc005"
   ]
  },
  {
   "cell_type": "markdown",
   "metadata": {},
   "source": [
    "Let us understand how we can develop monitoring application using shell scripting and advanced Linux commands.\n",
    "\n",
    "Let’s jump into power point presentation and mentioned the server names as pvc000…pvc006… These days nobody use monitor scripts on regular basis instead they use monitoring tools such as Ganglia, Nagios as opensource to monitor the servers. In a given enterprise there may be hundreds of servers, and there may be centralized servers and when we actually develop a monitoring scripts there may be two different approaches as shown below.\n",
    "\n",
    "### Different strategies\n",
    "***Centralized application pulling information from other servers***\n",
    "\n",
    "In a centralized server connecting to all these hosts on regular basis and getting the information through all the servers. A standard shell script which is deployed on the centralized server and saved somewhere on the centralized server.\n",
    "\n",
    "***Agents on all servers sending information to the centralized server***\n",
    "\n",
    "Push strategy instead of pulling the information these servers push the information. They periodically run the commands and they push the information the centralized server. Either centralized server stores the information in database or file-system and alters should be configured monitored and UI based tools will be developed based on the data.\n",
    "\n",
    "### Develop shell script which runs a given command on multiple servers and saves into files on centralized server\n",
    "* Develop the script and test it on demo.itversity.com\n",
    "* We need to pass server details in a file called hosts\n",
    "* Output file should log details into a file named after the hostname\n",
    "* Make sure information is logged properly to the log file\n",
    "\n",
    "Fixed the issues we encountered as part of the session. The issue was due to incorrect references to the arguments."
   ]
  },
  {
   "cell_type": "raw",
   "metadata": {},
   "source": [
    "USER=$1\n",
    "HOSTS=$2\n",
    "CMDS=$3\n",
    "IFS=$'\\n'\n",
    "STARTDATE=`date +'%Y-%m-%d %H:%M:%S'`\n",
    "function runCommandOnHostFromFile() {\n",
    "USER=$1\n",
    "HOST=$2\n",
    "CMD=$3\n",
    "echo \"[${STARTDATE}] Running \\\"${CMD}\\\" on ${HOST}\" >> pvc.log\n",
    "ssh ${USER}@${HOST} \"${CMD}\" > pvc_tmp.log\n",
    "for OUTPUT in `cat pvc_tmp.log`;\n",
    "do\n",
    "echo \"[${STARTDATE}]:${HOST}:${CMD}:$OUTPUT\" >> pvc.log\n",
    "done\n",
    "}\n",
    "function runCommandOnHostFromCommand() {\n",
    "USER=$1\n",
    "HOST=$2\n",
    "CMD=$3\n",
    "echo \"[${STARTDATE}] Running \\\"${CMD}\\\" on ${HOST}\"\n",
    "ssh ${USER}@${HOST} ${CMD}\n",
    "}\n",
    "cd /home/dgadiraju/linuxdemo\n",
    "for HOST in `cat ${HOSTS}`;\n",
    "do\n",
    "if [ -f ${CMDS} ]; then\n",
    "for CMD in `cat ${CMDS}`;\n",
    "do\n",
    "runCommandOnHostFromFile ${USER} ${HOST} ${CMD}\n",
    "done\n",
    "else\n",
    "runCommandOnHostFromCommand ${USER} ${HOST} ${CMDS}\n",
    "fi\n",
    "done\n",
    "rm -rf pvc_tmp.log"
   ]
  }
 ],
 "metadata": {
  "kernelspec": {
   "display_name": "Python 3",
   "language": "python",
   "name": "python3"
  },
  "language_info": {
   "codemirror_mode": {
    "name": "ipython",
    "version": 3
   },
   "file_extension": ".py",
   "mimetype": "text/x-python",
   "name": "python",
   "nbconvert_exporter": "python",
   "pygments_lexer": "ipython3",
   "version": "3.6.8"
  }
 },
 "nbformat": 4,
 "nbformat_minor": 4
}
