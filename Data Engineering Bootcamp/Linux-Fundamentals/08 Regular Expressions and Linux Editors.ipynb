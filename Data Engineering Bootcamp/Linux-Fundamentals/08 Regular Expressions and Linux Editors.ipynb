{
 "cells": [
  {
   "cell_type": "markdown",
   "metadata": {},
   "source": [
    "# Regular Expressions and Linux Editors"
   ]
  },
  {
   "cell_type": "markdown",
   "metadata": {},
   "source": [
    "As part of this topic, we will talk about Regular Expressions and Linux Editors such as nano, vi, and vim.\n",
    "* Overview of grep/egrep\n",
    "* Bracket Expressions\n",
    "* Character Classes\n",
    "* Regular Expressions – Common Tasks\n",
    "* Overview of Editors\n",
    "* Using vi/vim editor\n",
    "\n",
    "### Overview of grep/egrep\n",
    "\n",
    "### Bracket Expressions\n",
    "\n",
    "### Character Classes\n",
    "\n",
    "### Regular Expressions – Common Tasks\n",
    "\n",
    "### Overview of Editors\n",
    "\n",
    "### Using vi/vim editor"
   ]
  }
 ],
 "metadata": {
  "kernelspec": {
   "display_name": "Python 3",
   "language": "python",
   "name": "python3"
  },
  "language_info": {
   "codemirror_mode": {
    "name": "ipython",
    "version": 3
   },
   "file_extension": ".py",
   "mimetype": "text/x-python",
   "name": "python",
   "nbconvert_exporter": "python",
   "pygments_lexer": "ipython3",
   "version": "3.6.8"
  }
 },
 "nbformat": 4,
 "nbformat_minor": 4
}
