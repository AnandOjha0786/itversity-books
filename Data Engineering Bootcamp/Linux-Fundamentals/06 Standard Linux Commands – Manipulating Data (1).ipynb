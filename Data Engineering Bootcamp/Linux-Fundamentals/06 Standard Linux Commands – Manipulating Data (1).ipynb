{
 "cells": [
  {
   "cell_type": "markdown",
   "metadata": {},
   "source": [
    "# Standard Linux Commands – Manipulating Data"
   ]
  },
  {
   "cell_type": "markdown",
   "metadata": {},
   "source": [
    "Are you interested in understanding how to manipulate data using commands like grep, cut, sort, uniq etc?\n",
    "* Piping output to other commands\n",
    "* Searching in files\n",
    "* Piping output to xargs\n",
    "* Processing delimited data\n",
    "* Sorting data – Numeric vs. Alphanumeric\n",
    "* Getting Unique Values\n",
    "\n",
    "# Piping output to other commands\n",
    "It is very important to pipe output of command as input to other commands while processing the data. Let us see how we can achieve it.\n",
    "\n",
    "It is nothing but a form of redirection (transfer of standard output to some other destination) that is used in **Linux** and other Unix-like operating systems to send the output of one command/program/process to another command/program/process for further processing.\n",
    "\n",
    "Below are some of the examples:"
   ]
  },
  {
   "cell_type": "markdown",
   "metadata": {},
   "source": [
    "lists files and directories with full access"
   ]
  },
  {
   "cell_type": "raw",
   "metadata": {},
   "source": [
    "ls -ltr | rwxrwxrwx "
   ]
  },
  {
   "cell_type": "markdown",
   "metadata": {},
   "source": [
    "shows the last lines of text from the file"
   ]
  },
  {
   "cell_type": "raw",
   "metadata": {},
   "source": [
    "cat filename | less"
   ]
  },
  {
   "cell_type": "markdown",
   "metadata": {},
   "source": [
    "searches for the word a in the file"
   ]
  },
  {
   "cell_type": "raw",
   "metadata": {},
   "source": [
    "cat filename | grep -i a "
   ]
  },
  {
   "cell_type": "markdown",
   "metadata": {},
   "source": [
    "searches top lines in a file"
   ]
  },
  {
   "cell_type": "raw",
   "metadata": {},
   "source": [
    "grep -v part-00000 | head"
   ]
  },
  {
   "cell_type": "markdown",
   "metadata": {},
   "source": [
    "counts the files in it which is word count"
   ]
  },
  {
   "cell_type": "raw",
   "metadata": {},
   "source": [
    "grep -v part-00000 | wc -l"
   ]
  },
  {
   "cell_type": "markdown",
   "metadata": {},
   "source": [
    "### Searching in files\n",
    "Let us see how we can search for strings in files using grep:- “global regular expression print”.\n",
    "\n",
    "grep is extensively used to search for information in the files. Let us get started with grep and we will talk about regular expressions at a later point in time.\n",
    "* Processes text line by line and prints any lines based on matching with a specified pattern(Patterns in grep are, by default, basic regular expressions)\n",
    "* Used to search text and also used to search the given file for lines containing a match to the given strings or words.\n",
    "* By default, grep displays the matching lines.\n",
    "* **Usage of grep**: Use grep to search for lines of text that match one or many regular expressions, and outputs only the matching lines.\n",
    "\n",
    "***Syntax of grep:***"
   ]
  },
  {
   "cell_type": "raw",
   "metadata": {},
   "source": [
    "grep [options] pattern [list of files]"
   ]
  },
  {
   "cell_type": "markdown",
   "metadata": {},
   "source": [
    "The first argument to grep is a search pattern. The second (optional) argument is the name of a file to be searched.\n",
    "\n",
    "Using **ls** command we can get the list of directories"
   ]
  },
  {
   "cell_type": "code",
   "execution_count": 2,
   "metadata": {},
   "outputs": [
    {
     "name": "stdout",
     "output_type": "stream",
     "text": [
      "drw-r--r-- 2 pavanimadala students 4096 Apr 21 01:37 testdir/\n",
      "drwxr-xr-x 2 pavanimadala students 4096 Apr 21 01:37 testdir3/\n",
      "drwxr-xr-x 2 pavanimadala students 4096 Apr 21 01:37 testdir2/\n",
      "drwxr-xr-x 2 pavanimadala students 4096 Apr 21 01:37 testdir1/\n",
      "drwxr-xr-x 2 pavanimadala students 4096 Apr 21 01:39 testdir{00.09}/\n",
      "drwxr-xr-x 2 pavanimadala students 4096 Apr 21 01:39 testdir_pavanimadala/\n",
      "drwxr-xr-x 2 pavanimadala students 4096 Apr 22 04:58 vm/\n",
      "drwxr-xr-x 2 pavanimadala students 4096 Apr 23 01:26 testdir_whoami/\n"
     ]
    }
   ],
   "source": [
    "%%sh\n",
    "ls -ltdr */"
   ]
  },
  {
   "cell_type": "markdown",
   "metadata": {},
   "source": [
    "grep can be used to ways and we are using an example of getting directories to showcase simple usage of grep\n",
    "* Pass file as an argument to grep\n",
    "* Pipe output of a command to grep\n",
    "\n",
    "***Passing file as an argument to grep:***"
   ]
  },
  {
   "cell_type": "raw",
   "metadata": {},
   "source": [
    "ls -ltr > ls_output   -   Create file\n",
    "\n",
    "grep \"^d\" ls_output   -   Check whether the beginning character is d or not -"
   ]
  },
  {
   "cell_type": "markdown",
   "metadata": {},
   "source": [
    "Passing output of a command to grep:"
   ]
  },
  {
   "cell_type": "code",
   "execution_count": 4,
   "metadata": {},
   "outputs": [
    {
     "name": "stdout",
     "output_type": "stream",
     "text": [
      "drw-r--r-- 2 pavanimadala students  4096 Apr 21 01:37 testdir\n",
      "drwxr-xr-x 2 pavanimadala students  4096 Apr 21 01:37 testdir3\n",
      "drwxr-xr-x 2 pavanimadala students  4096 Apr 21 01:37 testdir2\n",
      "drwxr-xr-x 2 pavanimadala students  4096 Apr 21 01:37 testdir1\n",
      "drwxr-xr-x 2 pavanimadala students  4096 Apr 21 01:39 testdir{00.09}\n",
      "drwxr-xr-x 2 pavanimadala students  4096 Apr 21 01:39 testdir_pavanimadala\n",
      "drwxr-xr-x 2 pavanimadala students  4096 Apr 22 04:58 vm\n",
      "drwxr-xr-x 2 pavanimadala students  4096 Apr 23 01:26 testdir_whoami\n"
     ]
    }
   ],
   "source": [
    "%%sh\n",
    "ls -ltr | grep \"^d\""
   ]
  },
  {
   "cell_type": "markdown",
   "metadata": {},
   "source": [
    "(note:- “^” character means beginning of the line and “| ”  is used for a pipe which means to redirect or send the output of one program to another program for further processing)\n",
    "\n",
    "***Important grep options:***\n",
    "\n",
    "Checking for the whole words in a file."
   ]
  },
  {
   "cell_type": "raw",
   "metadata": {},
   "source": [
    "grep -w"
   ]
  },
  {
   "cell_type": "markdown",
   "metadata": {},
   "source": [
    "Display lines that are not matched with the specified search string pattern."
   ]
  },
  {
   "cell_type": "markdown",
   "metadata": {},
   "source": [
    "grep -v"
   ]
  },
  {
   "cell_type": "markdown",
   "metadata": {},
   "source": [
    "This will display everything other than directories."
   ]
  },
  {
   "cell_type": "raw",
   "metadata": {},
   "source": [
    "ls -ltr | grep -v \"^d\""
   ]
  },
  {
   "cell_type": "markdown",
   "metadata": {},
   "source": [
    "Display only the matched string instead of entire line which has matched string."
   ]
  },
  {
   "cell_type": "raw",
   "metadata": {},
   "source": [
    "grep -o"
   ]
  },
  {
   "cell_type": "markdown",
   "metadata": {},
   "source": [
    "Search for a string in all the files under the current directory and sub-directories."
   ]
  },
  {
   "cell_type": "raw",
   "metadata": {},
   "source": [
    "grep -r"
   ]
  },
  {
   "cell_type": "markdown",
   "metadata": {},
   "source": [
    "Find the number of lines that match the given string/pattern"
   ]
  },
  {
   "cell_type": "raw",
   "metadata": {},
   "source": [
    "grep -c"
   ]
  },
  {
   "cell_type": "markdown",
   "metadata": {},
   "source": [
    "***Examples:***\n",
    "\n",
    "Before getting into examples and solutions, let us understand how to access the data"
   ]
  },
  {
   "cell_type": "raw",
   "metadata": {},
   "source": [
    "cd /data/retail_db/orders"
   ]
  },
  {
   "cell_type": "markdown",
   "metadata": {},
   "source": [
    "– Go to orders directory"
   ]
  },
  {
   "cell_type": "raw",
   "metadata": {},
   "source": [
    "head -100 part-00000"
   ]
  },
  {
   "cell_type": "markdown",
   "metadata": {},
   "source": [
    "– Use head to preview the data"
   ]
  },
  {
   "cell_type": "markdown",
   "metadata": {},
   "source": [
    "grep -c \"COMPLETE\" part-00000"
   ]
  },
  {
   "cell_type": "markdown",
   "metadata": {},
   "source": [
    "– To find the Total count of orders that are COMPLETE"
   ]
  },
  {
   "cell_type": "raw",
   "metadata": {},
   "source": [
    "grep -c \"PENDING\" part-00000"
   ]
  },
  {
   "cell_type": "markdown",
   "metadata": {},
   "source": [
    "– To find out total count for pending orders"
   ]
  },
  {
   "cell_type": "raw",
   "metadata": {},
   "source": [
    "grep “^[[:digit]]”"
   ]
  },
  {
   "cell_type": "markdown",
   "metadata": {},
   "source": [
    "– Check whether in first column all data is numeric or not"
   ]
  },
  {
   "cell_type": "raw",
   "metadata": {},
   "source": [
    "grep -c \" \"^[[:digit]]\"\\{1,\\},\" part-000000"
   ]
  },
  {
   "cell_type": "markdown",
   "metadata": {},
   "source": [
    "For one or more numbers\n",
    "\n",
    "Using **grep -Ec** option – grep evaluates your PATTERN string as an extended regular expression (ERE)"
   ]
  },
  {
   "cell_type": "raw",
   "metadata": {},
   "source": [
    "grep -Ec \"^[[:digit]]+ \""
   ]
  },
  {
   "cell_type": "markdown",
   "metadata": {},
   "source": [
    "Find out only those first records which have exactly 5 numbers"
   ]
  },
  {
   "cell_type": "raw",
   "metadata": {},
   "source": [
    "grep -Ec \"^[[:digit]]+ {5}\""
   ]
  },
  {
   "cell_type": "markdown",
   "metadata": {},
   "source": [
    "### Piping output to xargs\n",
    "Apart from the piping output of a command as input to another command, we can also pipe output as arguments using xargs. Let us understand more about xargs.\n",
    "\n",
    "**xargs** is a command on Unix and most Unix-like operating systems used to build and execute commands from standard input. It converts input from standard input into arguments to a command. Some commands such as grep and awk can take input either as command-line arguments or from the standard input."
   ]
  },
  {
   "cell_type": "raw",
   "metadata": {},
   "source": [
    "find . -name \"*.log\" -mtime -1|xargs grep -i error\n",
    "\n",
    "ls -ltr *.log | xargs grep -i error\n",
    "\n",
    "echo 'one two three' | xargs mkdir"
   ]
  },
  {
   "cell_type": "markdown",
   "metadata": {},
   "source": [
    "### Processing delimited data\n",
    "At times data in files might have structure where records are delimited by characters such as new line and fields in each record is seperated by characters such as comma. We can extract information from files where data is delimited using cut. Let us see the details related to cut command here.\n",
    "\n",
    "The **cut command** in UNIX is a **command** line utility for **cutting** sections from each line of files and writing the result to standard output. It can be used to **cut** parts of a line by byte position, character and delimiter. It can also be used to **cut** data from file formats like CSV.\n",
    "* **Usage**: cutting out the sections from each line of files and writing the result to standard output. It can be used to cut parts of a line by byte position, character and field.\n",
    "* Example 1: Write the cut command to get first three characters in the file"
   ]
  },
  {
   "cell_type": "raw",
   "metadata": {},
   "source": [
    "cut -c1-3 part-00000|head"
   ]
  },
  {
   "cell_type": "markdown",
   "metadata": {},
   "source": [
    "Example 2: Write cut command to print field from 1 to 3 with delimiter “,”"
   ]
  },
  {
   "cell_type": "raw",
   "metadata": {},
   "source": [
    "cut -d, -f1-3 part-00000|head"
   ]
  },
  {
   "cell_type": "code",
   "execution_count": null,
   "metadata": {},
   "outputs": [],
   "source": [
    "Sorting Data – Numeric vs. Alphanumeric"
   ]
  },
  {
   "cell_type": "markdown",
   "metadata": {},
   "source": [
    "Let us see how we can sort the data in a file or from the output of a command.\n",
    "\n",
    "In Unix-like operating systems, a sort is a standard command line program that prints the lines of its input or concatenation of all files listed in its argument list in sorted order.\n",
    "\n",
    "* **Usage**: To sort the data. We can use delimiter and field number to sort the data by a particular field\n",
    "* Example 1: Get the order status from orders part-00000 file and sort it"
   ]
  },
  {
   "cell_type": "raw",
   "metadata": {},
   "source": [
    "cut -d, -f4 orders/part-00000 > order_statuses"
   ]
  },
  {
   "cell_type": "markdown",
   "metadata": {},
   "source": [
    "Getting 4th field from orders and redirecting to order_statuses\n",
    "\n",
    "**sort order_statuses** – Now we are sorting the data\n",
    "\n",
    "* Example 2:  Sort the order_cust_ids\n",
    "As we need to sort the file numerically we need to use -n option.\n",
    "\n",
    "sort -n order_cust_ids\n",
    "\n",
    "Performing numeric sort\n",
    "\n",
    "### Getting Unique Values\n",
    "Let us see how we can get uniq values from input data.\n",
    "\n",
    "**uniq** reports or filters out repeated lines in a file.\n",
    "* Usage: utility that reports or filters out the repeated lines in a file.\n",
    "* Data need to be pre-sorted to get uniq values\n",
    "* Syntax uniq [OPTION] [INPUT[OUTPUT]]\n",
    "* Example: Remove duplicate statuses from the order_statuses"
   ]
  },
  {
   "cell_type": "raw",
   "metadata": {},
   "source": [
    "sort order_statuses"
   ]
  },
  {
   "cell_type": "markdown",
   "metadata": {},
   "source": [
    "Gives unique values"
   ]
  },
  {
   "cell_type": "raw",
   "metadata": {},
   "source": [
    "sort order_statuses|uniq"
   ]
  },
  {
   "cell_type": "markdown",
   "metadata": {},
   "source": [
    "Gives unique values along with counts in the beginning"
   ]
  }
 ],
 "metadata": {
  "kernelspec": {
   "display_name": "Python 3",
   "language": "python",
   "name": "python3"
  },
  "language_info": {
   "codemirror_mode": {
    "name": "ipython",
    "version": 3
   },
   "file_extension": ".py",
   "mimetype": "text/x-python",
   "name": "python",
   "nbconvert_exporter": "python",
   "pygments_lexer": "ipython3",
   "version": "3.6.8"
  }
 },
 "nbformat": 4,
 "nbformat_minor": 4
}
