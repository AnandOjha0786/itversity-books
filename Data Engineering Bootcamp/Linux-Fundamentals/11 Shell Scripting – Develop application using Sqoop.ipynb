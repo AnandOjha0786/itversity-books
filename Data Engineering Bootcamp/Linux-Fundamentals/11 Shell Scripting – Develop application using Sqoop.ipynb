{
 "cells": [
  {
   "cell_type": "markdown",
   "metadata": {},
   "source": [
    "# Shell Scripting – Develop application using Sqoop"
   ]
  },
  {
   "cell_type": "markdown",
   "metadata": {},
   "source": [
    "Do you want to understand how we can automate data ingestion using Sqoop? As part of this session, we have covered how to automate the data ingestion process using Sqoop with Shell Scripting.\n",
    "* Create a file with list of tables\n",
    "* Create properties file with : delimited values (table_name:num_mappers:split_key)\n",
    "* Create template for sqoop import\n",
    "* Log all the important information (before running sqoop import and after running sqoop import)\n",
    "* Redirect standard error of sqoop import command to /dev/null and capture only required information"
   ]
  },
  {
   "cell_type": "raw",
   "metadata": {},
   "source": [
    "HOSTNAME=ms.itversity.com\n",
    "DATABASE=retail_db\n",
    "USERNAME=retail_user\n",
    "PASSWORD=itversity"
   ]
  },
  {
   "cell_type": "raw",
   "metadata": {},
   "source": [
    "#Usage\n",
    "#Copy this to main.sh\n",
    "#Add execute permissions using chmod +x main.sh\n",
    "#Create 2 files table1 and tables2 using contents from files tables1 and tables2 after this\n",
    "#Run using ./main.sh tables1 and ./main.sh tables2 to run 2 jobs in parallel\n",
    "CMD=\"sqoop import --connect \\\"jdbc:mysql://[HOSTNAME]/[DBNAME]\\\" \\\n",
    "  --username [USERNAME] \\\n",
    "  --password [PASSWORD] \\\n",
    "  --table [TABLENAME] \\\n",
    "  --num-mappers [MAPPERS] \\\n",
    "  --target-dir /user/training/livedemo/[TABLENAME]\"\n",
    "\n",
    "STARTDATE=`date +'%Y%m%d'`\n",
    "HOSTNAME=`grep HOSTNAME db.properties|cut -d= -f2`\n",
    "DBNAME=`grep DATABASE db.properties|cut -d= -f2`\n",
    "USERNAME=`grep USERNAME db.properties|cut -d= -f2`\n",
    "PASSWORD=`grep PASSWORD db.properties|cut -d= -f2`\n",
    "for LINE in `cat ${1}`;\n",
    "do\n",
    "  TABLE=`echo ${LINE}|cut -d: -f1`\n",
    "  MAPPERS=`echo ${LINE}|cut -d: -f2`\n",
    "  SPLITBY=`echo ${LINE}|cut -d: -f3`\n",
    "  SQOOPCMD=`echo $CMD | sed -e \"s/\\[TABLENAME\\]/${TABLE}/g\"`\n",
    "  SQOOPCMD=`echo $SQOOPCMD | sed -e \"s/\\[MAPPERS\\]/${MAPPERS}/g\"`\n",
    "  SQOOPCMD=`echo $SQOOPCMD | sed -e \"s/\\[HOSTNAME\\]/${HOSTNAME}/g\"`\n",
    "  SQOOPCMD=`echo $SQOOPCMD | sed -e \"s/\\[DBNAME\\]/${DBNAME}/g\"`\n",
    "  SQOOPCMD=`echo $SQOOPCMD | sed -e \"s/\\[USERNAME\\]/${USERNAME}/g\"`\n",
    "  SQOOPCMD=`echo $SQOOPCMD | sed -e \"s/\\[PASSWORD\\]/${PASSWORD}/g\"`\n",
    "  if [ \"${SPLITBY}\" != \"NA\" ]; then\n",
    "    SQOOPCMD=\"${SQOOPCMD} --split-by ${SPLITBY}\"\n",
    "  else\n",
    "    SQOOPCMD=\"${SQOOPCMD} --autoreset-to-one-mapper\"\n",
    "  fi\n",
    "  echo \"Loading ${TABLENAME} using ${SQOOPCMD}\"\n",
    "  `${SQOOPCMD} 2>sqoop_${STARTDATE}_${TABLE}.err 1>sqoop_${STARTDATE}_${TABLE}.out`\n",
    "  NOOFRECORDS=`grep \"Retrieved .* records\" sqoop_${STARTDATE}_${TABLE}.err|cut -d\" \" -f6`\n",
    "  echo ${STARTDATE}:${TABLE}:${NOOFRECORDS} >> sqoop_livedemo.log\n",
    "done"
   ]
  },
  {
   "cell_type": "raw",
   "metadata": {},
   "source": [
    "categories:2:NA\n",
    "\n",
    "customers:2:NA\n",
    "\n",
    "departments:1:NA\n",
    "\n",
    "order_items:4:NA"
   ]
  },
  {
   "cell_type": "raw",
   "metadata": {},
   "source": [
    "order_items_nopk:4:order_item_order_id\n",
    "\n",
    "orders:4:NA\n",
    "\n",
    "products:2:NA"
   ]
  }
 ],
 "metadata": {
  "kernelspec": {
   "display_name": "Python 3",
   "language": "python",
   "name": "python3"
  },
  "language_info": {
   "codemirror_mode": {
    "name": "ipython",
    "version": 3
   },
   "file_extension": ".py",
   "mimetype": "text/x-python",
   "name": "python",
   "nbconvert_exporter": "python",
   "pygments_lexer": "ipython3",
   "version": "3.6.8"
  }
 },
 "nbformat": 4,
 "nbformat_minor": 4
}
