{
 "cells": [
  {
   "cell_type": "markdown",
   "metadata": {},
   "source": [
    "# Linux Commands – System Details and Standard Directories"
   ]
  },
  {
   "cell_type": "markdown",
   "metadata": {},
   "source": [
    "Are you interested in understanding most common functions used by system administrators on regular basis and how it will impact you as a developer or as a tester or even as a production support executive?\n",
    "* Get Operating System Details\n",
    "* Get System Details\n",
    "* Managing Services\n",
    "* Startup Levels and Scripts Overview\n",
    "* Managing Daemon Processes\n",
    "* Standard Directories\n",
    "* Getting information from log files\n",
    "* Managing Temporary Files and log Files\n",
    "* Troubleshooting Issues – Directory Full\n",
    "\n",
    "## Get Operating System Details\n",
    "Let us see how we can get the details about Operating System.\n",
    "\n",
    "The basic command to get the operating system details is uname -a.  it actually gives the kernel details. We usually get information like 3.14.32 and 64-bit operating system. If x86_64 it is 32-bit operating system and cannot use more then 4 GB memory. These days all the 32-bit operating system is upgrading to 64 bit.  If you are using Redhat Linux, Centos or Fedora to get the version of this distribution you need to familiar with the file such as below:"
   ]
  },
  {
   "cell_type": "code",
   "execution_count": 1,
   "metadata": {},
   "outputs": [
    {
     "name": "stdout",
     "output_type": "stream",
     "text": [
      "CentOS Linux release 7.4.1708 (Core) \n"
     ]
    }
   ],
   "source": [
    "%%sh\n",
    "cat /etc/redhat-release "
   ]
  },
  {
   "cell_type": "code",
   "execution_count": 2,
   "metadata": {},
   "outputs": [
    {
     "name": "stdout",
     "output_type": "stream",
     "text": [
      "Linux gw02.itversity.com 3.14.32-xxxx-grs-ipv6-64 #9 SMP Thu Oct 20 14:53:52 CEST 2016 x86_64 x86_64 x86_64 GNU/Linux\n"
     ]
    }
   ],
   "source": [
    "%%sh\n",
    "uname -a"
   ]
  },
  {
   "cell_type": "markdown",
   "metadata": {},
   "source": [
    "### Get System Details\n",
    "Let us see how we can get system level details such as CPU, Memory, Storage (df and du) and Network.\n",
    "\n",
    "You need to have root access for looking into the CPU, Memory, Storage as well as Network details.\n",
    "* CPU Details – **lscpu**\n",
    "* CPU Load Average – **uptime**\n",
    "* General System Details – **top**\n",
    "* Memory Details – **free**\n",
    "* File System Details – **df** and **du**\n",
    "* Network Details – **netstat** (netstat -tulpn)\n",
    "\n",
    "### Managing Services\n",
    "Let us look into the details about managing services in Linux. We use systemctl command for the same.\n",
    "\n",
    "Systemctl is a dba tool and developers will not have access to it. Earlier we used to run command (service sshd restart) to restart the service and to get the status we use (service sshd status). With Centos or Redhat 7 versions, they have introduced a command called (systemctl). System control is the command, using which we can control the system going forward and we can get the status using (systemctl status sshd). If you want to stop the service you can use (systemctl stop servicename) and start we can use (systemctl restart servicename) to restart the service we use (systemctl restart servicename)\n",
    "\n",
    "### Startup Levels and Scripts Overview\n",
    "Let us go through the details related to Startup Levels and Scripts.\n",
    "\n",
    "The third party services will be enabled at level 7 from (0-6). 0 level states unless all the services which are specified as priority state as 0 are stated your system should not be considered in the healthy state. As part of the troubleshooting process system admins may restart the services using <init 0> to shut down. If you want to restart the complete system you use <init 6>. Get process details – ps command\n",
    "\n",
    "### Managing Daemon Processes\n",
    "Let us go through details related to managing background processes running on Linux based servers. We will be using ps command for the same.\n",
    "* Get processes details\n",
    "    * f is used for formatting output\n",
    "    * all processes, -e or -ax\n",
    "    * by user -u\n",
    "    * by group -g\n",
    "    * by pid -p or –pid\n",
    "    * by ppid –ppid\n",
    "    * by session id -s or –sid\n",
    "    * To remove header -h\n",
    "    * To specify custom fields or attributes -o\n",
    "    * Listing all the fields or attributes L\n",
    "* Understanding process hierarchy\n",
    "* Killing processes\n",
    "\n",
    "Process details which are very important for every stack holder of Linux. <ps> gives the process level details and the most basic command is <ps -ef> which gives the details about the process id’s and details of the directories."
   ]
  },
  {
   "cell_type": "markdown",
   "metadata": {},
   "source": [
    "it gives the information of all the process."
   ]
  },
  {
   "cell_type": "raw",
   "metadata": {},
   "source": [
    "<ps -e>  "
   ]
  },
  {
   "cell_type": "markdown",
   "metadata": {},
   "source": [
    "it gives only four attributes of the process."
   ]
  },
  {
   "cell_type": "raw",
   "metadata": {},
   "source": [
    "<ps -a>"
   ]
  },
  {
   "cell_type": "markdown",
   "metadata": {},
   "source": [
    "to get the all the control arguments for the ps command."
   ]
  },
  {
   "cell_type": "raw",
   "metadata": {},
   "source": [
    "<ps --help a>"
   ]
  },
  {
   "cell_type": "markdown",
   "metadata": {},
   "source": [
    "***Get processes details***\n",
    "    \n",
    "* f is used for formatting output\n",
    "* all processes, -e or -ax\n",
    "* by user -u\n",
    "* by group -g\n",
    "* by pid -p or –pid\n",
    "* by ppid –ppid\n",
    "* by session id -s or –sid\n",
    "* To remove header -h\n",
    "* To specify custom fields or attributes -o\n",
    "* Listing all the fields or attributes L\n",
    "    * Understanding process hierarchy\n",
    "    * Killing processes\n",
    "    \n",
    "You can use <kill -9> kill the abrabotly.  Usually killing the process will not be done by the developers and this can only be done by the system administrators.\n",
    "\n",
    "### Standard directories\n",
    "Let us talk about Standard Directories and managing log files and temporary files.\n",
    "\n",
    "**Configuration files (/etc/fstab for mount points)**\n",
    "\n",
    "You can find the configuration files at </etc/fstab\n",
    " \n",
    "***Log files***\n",
    "    \n",
    "You can go to the <cd /var/log>to find the files like messages and security. Which can be accessible for system administrators. You can see multiple log files and will be generated every week.\n",
    "    \n",
    "***Temporary files***\n",
    "Linux provides you the scratchpad to store the temp files and location of this files can be found at <cd /tmp>\n",
    "\n",
    "### Log Files and Temporary Files\n",
    "You can go to (/var) for log files and look into the sizes.\n",
    "\n",
    "Depending upon the files and the process priority you can close the service and system administrator will look into this files to check the disk usage.\n",
    "\n",
    "### Troubleshooting Directory Full\n",
    "To view the storage of the files and directories you can run <du -sh .>.  <du -sh *> will help us to under the file or directory consuming highest storage. <du -s *|sort -n> we can see the most maximum size of the files. Depending on the priority we can delete the log files.  We can use find command <find . -name “.log.*” -mtime  +30> files which are older than 30 days and these files can be deleted. You can use <find . -name “.log.*” -mtime  +30|xrags rm> to delete the files."
   ]
  }
 ],
 "metadata": {
  "kernelspec": {
   "display_name": "Python 3",
   "language": "python",
   "name": "python3"
  },
  "language_info": {
   "codemirror_mode": {
    "name": "ipython",
    "version": 3
   },
   "file_extension": ".py",
   "mimetype": "text/x-python",
   "name": "python",
   "nbconvert_exporter": "python",
   "pygments_lexer": "ipython3",
   "version": "3.6.8"
  }
 },
 "nbformat": 4,
 "nbformat_minor": 4
}
