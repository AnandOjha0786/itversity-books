{
 "cells": [
  {
   "cell_type": "markdown",
   "metadata": {},
   "source": [
    "# Basics of Shell Scripting and Developing One Liners"
   ]
  },
  {
   "cell_type": "markdown",
   "metadata": {},
   "source": [
    "Are you interested in understanding about sed, awk as well as basics of shell scripting and see how one liners are developed?\n",
    "* Overview of sed and awk\n",
    "* Overview of basic shell scripting\n",
    "    * Arguments\n",
    "    * Conditions\n",
    "    * Looping\n",
    "    * Functions\n",
    "    * Logging\n",
    "* Running scripts in background (nohup)\n",
    "* Scheduling scripts (crontab)\n",
    "* Get number of orders by status (using cut, sort and uniq)\n",
    "* Get revenue for a given order_id (using awk)\n",
    "* Get the number of processes for each user\n",
    "* Replace string in multiple files using sed\n",
    "* Converting case using sed\n",
    "* Find all the log files older than 168 hours and delete them, find all the log files older than 48 hours and archive them\n",
    "    * First archive all the files which are older than 48 hours or 2 days\n",
    "    * Delete all the files from archive which are older than 168 hours or 7 days\n",
    "* Get top 5 users occupying more amount of storage in their home directories\n",
    "* Check if there are any files whose permissions are 777\n",
    "\n",
    "### Overview of sed and awk:\n",
    "* **SED** is a powerful text stream editor. Can do insertion, deletion, search and replace(substitution).\n",
    "* SED command supports regular expression which allows it perform complex pattern matching.\n",
    "* By using SED you can edit files even without opening it, which is much quicker way to find and replace * something in file, than first opening that file in VI Editor and then changing it.\n",
    "* **Usage of sed:**The s,%,$,g part of the command line is the sed command to execute.The s stands for substitute, the , characters are delimiters (other characters can be used; / , : and @ are popular).\n",
    "* **Syntax of sed:**"
   ]
  },
  {
   "cell_type": "raw",
   "metadata": {},
   "source": [
    "sed OPTIONS... [SCRIPT] [INPUTFILE...]\n",
    "\n",
    "man sed - displays the manual pages of sed"
   ]
  },
  {
   "cell_type": "markdown",
   "metadata": {},
   "source": [
    "### Examples:\n",
    "* To replace the string ‘complete’ with ‘completed’"
   ]
  },
  {
   "cell_type": "raw",
   "metadata": {},
   "source": [
    "sed -e 's/COMPLETE/COMPLETED/g' filename"
   ]
  },
  {
   "cell_type": "markdown",
   "metadata": {},
   "source": [
    "* To print 4th line in a file"
   ]
  },
  {
   "cell_type": "raw",
   "metadata": {},
   "source": [
    "sed -n '4'p filename"
   ]
  },
  {
   "cell_type": "markdown",
   "metadata": {},
   "source": [
    "* To print last line in a file"
   ]
  },
  {
   "cell_type": "raw",
   "metadata": {},
   "source": [
    "sed -n '$'p filename"
   ]
  },
  {
   "cell_type": "markdown",
   "metadata": {},
   "source": [
    "* To deletes 3rd line to last line"
   ]
  },
  {
   "cell_type": "raw",
   "metadata": {},
   "source": [
    "sed '3,$d' filename"
   ]
  },
  {
   "cell_type": "markdown",
   "metadata": {},
   "source": [
    "### AWK:\n",
    "AWK  command is a powerful method for processing or analyzing text files—in particular, data files that are organized by lines (rows) and columns."
   ]
  },
  {
   "cell_type": "raw",
   "metadata": {},
   "source": [
    "man awk - displays the manual pages of awk"
   ]
  },
  {
   "cell_type": "markdown",
   "metadata": {},
   "source": [
    "### Examples:\n",
    "* To print the first field of the file (part-00000)"
   ]
  },
  {
   "cell_type": "raw",
   "metadata": {},
   "source": [
    "awk -F \",\" '{ print $1 }' retail_db/orders/part-00000"
   ]
  },
  {
   "cell_type": "markdown",
   "metadata": {},
   "source": [
    "* To print  (space) as a delimiter in place of ,(comma)"
   ]
  },
  {
   "cell_type": "raw",
   "metadata": {},
   "source": [
    "awk -F \",\" '{ print $1 \" \" $2 }' retail_db/orders/part-00000 |head"
   ]
  },
  {
   "cell_type": "markdown",
   "metadata": {},
   "source": [
    "* To print all the records(everything) in a file"
   ]
  },
  {
   "cell_type": "raw",
   "metadata": {},
   "source": [
    "awk -F \",\" '{ print $0 }' retail_db/orders/part-00000 |head"
   ]
  },
  {
   "cell_type": "markdown",
   "metadata": {},
   "source": [
    "* To print the number of fields >22 in the file"
   ]
  },
  {
   "cell_type": "raw",
   "metadata": {},
   "source": [
    "awk -F \",\" '{ if(NF >22) {print NF} }' yelp_user.csv |head"
   ]
  },
  {
   "cell_type": "markdown",
   "metadata": {},
   "source": [
    "### Overview of basic shell scripting\n",
    "***First program:- Hello World***"
   ]
  },
  {
   "cell_type": "raw",
   "metadata": {},
   "source": [
    "vi filename.sh - To open the file\n",
    "\n",
    "echo \"helloworld\"\n",
    "\n",
    "source filename.sh - To Execute the file\n",
    "\n",
    "chmod u+x filename.sh - If you have to execute the file directly then it has to be executable. for that it has to have permissions."
   ]
  },
  {
   "cell_type": "markdown",
   "metadata": {},
   "source": [
    "***Arguments:***"
   ]
  },
  {
   "cell_type": "raw",
   "metadata": {},
   "source": [
    "vi filename.sh - open the file\n",
    "\n",
    "echo \"helloworld from\" $1 - Here, $1 is the argument we are passing\n",
    "\n",
    "echo \"helloworld\" $@ - prints all the arguments(everything)\n",
    "\n",
    "echo \"helloworld\" $0 - prints the filename\n",
    "\n",
    "echo \"helloworld\" ${@:1:3} - prints the arguments from 1 to 3\n",
    "\n",
    "echo \"helloworld\" ${@:3:2} - prints the arguments from 3 to the next 2\n",
    "filename.sh yourname - execute the file"
   ]
  },
  {
   "cell_type": "markdown",
   "metadata": {},
   "source": [
    "***Conditions:***\n",
    "\n",
    "if condition and if-else condition:"
   ]
  },
  {
   "cell_type": "code",
   "execution_count": 2,
   "metadata": {},
   "outputs": [
    {
     "name": "stderr",
     "output_type": "stream",
     "text": [
      "sh: line 5: [: ==: unary operator expected\n",
      "sh: line 7: [: ==: unary operator expected\n"
     ]
    }
   ],
   "source": [
    "%%sh\n",
    "function helloworld() {\n",
    "    echo \"Hello World from\" $1\n",
    " }\n",
    "name=$1\n",
    "if [ $name == \"YourName\" ]; then\n",
    "        name1=YOURNAME\n",
    "elif [ $name == \"ITVersity\" ]; then\n",
    "        name1=\"itversity\"\n",
    "else\n",
    "        name1=$name\n",
    "fi"
   ]
  },
  {
   "cell_type": "code",
   "execution_count": 3,
   "metadata": {},
   "outputs": [
    {
     "ename": "SyntaxError",
     "evalue": "invalid syntax (<ipython-input-3-ea8a429d5e7a>, line 1)",
     "output_type": "error",
     "traceback": [
      "\u001b[0;36m  File \u001b[0;32m\"<ipython-input-3-ea8a429d5e7a>\"\u001b[0;36m, line \u001b[0;32m1\u001b[0m\n\u001b[0;31m    helloworld ${name1}\u001b[0m\n\u001b[0m               ^\u001b[0m\n\u001b[0;31mSyntaxError\u001b[0m\u001b[0;31m:\u001b[0m invalid syntax\n"
     ]
    }
   ],
   "source": [
    "helloworld ${name1}"
   ]
  },
  {
   "cell_type": "markdown",
   "metadata": {},
   "source": [
    "***Looping:***\n",
    "\n",
    "for loop:"
   ]
  },
  {
   "cell_type": "code",
   "execution_count": null,
   "metadata": {},
   "outputs": [],
   "source": [
    "%%sh\n",
    "function printRangeofNumbers() {\n",
    "for i in $(seq 1 100);\n",
    "do\n",
    "echo $i\n",
    "done\n",
    "}\n",
    "\n",
    "funtion getAllFileNames() {\n",
    "for i in `ls -ltr`;\n",
    "do\n",
    "echo $i\n",
    "done\n",
    "}"
   ]
  },
  {
   "cell_type": "markdown",
   "metadata": {},
   "source": [
    "getAllFileNames"
   ]
  },
  {
   "cell_type": "markdown",
   "metadata": {},
   "source": [
    "***Functions:***\n",
    "\n",
    "To develop a simple function:"
   ]
  },
  {
   "cell_type": "code",
   "execution_count": null,
   "metadata": {},
   "outputs": [],
   "source": [
    "%%sh\n",
    "function helloworld() {\n",
    "echo \"Hello World\"\n",
    "}\n",
    "\n",
    "helloworld\n",
    "To pass arguments in a function\n",
    "\n",
    "function helloworld() {\n",
    "echo \"Hello World from\" $1\n",
    "}"
   ]
  },
  {
   "cell_type": "markdown",
   "metadata": {},
   "source": [
    "***Logging:***\n",
    "\n",
    "Redirect the log information into the log file. So, if it fails it has to login to error file. If it succeed all the important logging information should be logged into some log file."
   ]
  },
  {
   "cell_type": "raw",
   "metadata": {},
   "source": [
    "echo \"Running\" $0 \"using arguments\" $@ >> helloworld.log"
   ]
  },
  {
   "cell_type": "markdown",
   "metadata": {},
   "source": [
    "### Running scripts in background (nohup)\n",
    "* The name **nohup** stands for “no hangup.” which is normally sent to a process to inform it that the user has logged off, is intercepted by **nohup**, allowing the process to continue running.\n",
    "* When you execute a Unix job in the background (using &, bg command), and logout from the session, your process will get killed. You can avoid this using several methods — executing the job with nohup, or making it as batch job using at, batch or cron command.\n",
    "* syntax of nohup:"
   ]
  },
  {
   "cell_type": "raw",
   "metadata": {},
   "source": [
    "nohup [command] [argument]\n",
    "\n",
    "nohup --help | --version"
   ]
  },
  {
   "cell_type": "markdown",
   "metadata": {},
   "source": [
    "### Examples:\n",
    "To run the script in background"
   ]
  },
  {
   "cell_type": "raw",
   "metadata": {},
   "source": [
    "nohup helloworld.sh name&"
   ]
  },
  {
   "cell_type": "markdown",
   "metadata": {},
   "source": [
    "* By default, the script we are running will get into nohup.out file"
   ]
  },
  {
   "cell_type": "raw",
   "metadata": {},
   "source": [
    "cat nohup.out"
   ]
  },
  {
   "cell_type": "markdown",
   "metadata": {},
   "source": [
    "* Redirecting the script we are running into different file"
   ]
  },
  {
   "cell_type": "raw",
   "metadata": {},
   "source": [
    "nohup helloworld.sh name > nohup.log &"
   ]
  },
  {
   "cell_type": "markdown",
   "metadata": {},
   "source": [
    "### Scheduling scripts (crontab)\n",
    "The crontab (short for “cron table”) is a list of commands that are scheduled to run at regular time intervals on your computer system.\n",
    "\n",
    "   1. Minute **(0-59)**\n",
    "   2. Hour **(0-23)**\n",
    "   3. Day of Month **(1-31)**\n",
    "   4. Month of the year (hold values between **1-12** or **Jan-Dec**, you can use first three letters of each month’s name i.e **Jan or Jun**.)\n",
    "   5. Day of week (hold values between **0-6** or **Sun-Sat**, Here also you can use first three letters of each day’s name i.e **Sun or Wed**.)\n",
    "\n",
    "**crontab -l**   - lists the cronjobs\n",
    "\n",
    "**crontab -e**   -   add crons\n",
    "\n",
    "**Example:**\n",
    "\n",
    "vi file.sh\n",
    "\n",
    "    * * * * * – runs every hour\n",
    "\n",
    "### Get number of orders by status (using cut, sort and uniq)"
   ]
  },
  {
   "cell_type": "raw",
   "metadata": {},
   "source": [
    "cd /data/retail_db/orders    –  go to this directory\n",
    "\n",
    "view part-00000                     – open the file\n",
    "\n",
    "cut -d, -f4 part-00000 |more - prints count of each of the status\n",
    "\n",
    "cut -d, -f4 part-00000 |sort|uniq -c - prints count for each status with uniq of two values\n",
    "\n",
    "(OR)\n",
    "\n",
    "awk -F, '{ print $4 }' part-00000 |sort|uniq -c"
   ]
  },
  {
   "cell_type": "markdown",
   "metadata": {},
   "source": [
    "### Get revenue for a given order_id (using awk)"
   ]
  },
  {
   "cell_type": "raw",
   "metadata": {},
   "source": [
    "cd order_items\n",
    "\n",
    "head part-00000\n",
    "\n",
    "awk -f, '{ if($2 ==2) print $0 }' part-00000 - prints all records with order_id =2"
   ]
  },
  {
   "cell_type": "markdown",
   "metadata": {},
   "source": [
    "### Get the number of processes for each user"
   ]
  },
  {
   "cell_type": "raw",
   "metadata": {},
   "source": [
    "ps -efo -user - prints data from each user (run as root)\n",
    "\n",
    "ps -axfo user:50|sort|uniq -c - prints 50 users with number of processes\n",
    "\n",
    "top     - show information like tasks, memory, CPU and swap\n",
    "\n",
    "free -h - prints the memory in human readable\n",
    "\n",
    "uptime  - tells how long system has been running\n",
    "\n",
    "lscpu   - prints CPU architecture information from /proc/cpuinfo"
   ]
  },
  {
   "cell_type": "markdown",
   "metadata": {},
   "source": [
    "### Converting case using sed"
   ]
  },
  {
   "cell_type": "raw",
   "metadata": {},
   "source": [
    "sed -e 's/\\(.*)/\\L\\1/g' part-00000 - convert case upper to lower from a file part-00000\n",
    "\n",
    "sed -i 's/\\(.*)/\\L\\1/g' part-00000 -  update the existing file changes"
   ]
  },
  {
   "cell_type": "markdown",
   "metadata": {},
   "source": [
    "### Get top 5 users occupying more amount of storage in their home directories"
   ]
  },
  {
   "cell_type": "raw",
   "metadata": {},
   "source": [
    "du -s * - will give storage taken by each user\n",
    "\n",
    "du -s *|sort -nr|head -5 - will sort the data in descending order by this value"
   ]
  },
  {
   "cell_type": "markdown",
   "metadata": {},
   "source": [
    "### Check if there are any files whose permissions are 777"
   ]
  },
  {
   "cell_type": "raw",
   "metadata": {},
   "source": [
    "find /home -name \"*\" -exec ls -l {} \\;|grep -E \"^?rwx\" - check if any file permissions are 777 (run as root)"
   ]
  }
 ],
 "metadata": {
  "kernelspec": {
   "display_name": "Python 3",
   "language": "python",
   "name": "python3"
  },
  "language_info": {
   "codemirror_mode": {
    "name": "ipython",
    "version": 3
   },
   "file_extension": ".py",
   "mimetype": "text/x-python",
   "name": "python",
   "nbconvert_exporter": "python",
   "pygments_lexer": "ipython3",
   "version": "3.6.8"
  }
 },
 "nbformat": 4,
 "nbformat_minor": 4
}
