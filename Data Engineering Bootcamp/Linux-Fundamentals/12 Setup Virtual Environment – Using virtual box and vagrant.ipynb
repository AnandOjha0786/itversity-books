{
 "cells": [
  {
   "cell_type": "markdown",
   "metadata": {},
   "source": [
    "# Setup Virtual Environment – Using virtual box and vagrant"
   ]
  },
  {
   "cell_type": "markdown",
   "metadata": {},
   "source": [
    "Do you want to know how to setup virtual machines on your PC or Mac or even Linux based personal computers or laptops?\n",
    "* We will be talking about virtualization from personal usage perspective\n",
    "* Different tools for creating virtual machines\n",
    "* Setting up virtual box\n",
    "* Creating virtual host and installing operating system\n",
    "* Features such as cloning, firewalls etc\n",
    "* Automating creation of multiple VMs using tools like vagrant\n",
    "\n",
    "Either you can use below gists or clone from this [GitHub repository](https://github.com/dgadiraju/multinode). Keep in mind that GitHub repository might change in future, that is why we are providing the snapshot of the scripts used for demonstration in the form of gists.\n",
    "\n",
    "### We will be talking about virtualization from the personal usage perspective\n",
    "In computing, virtualization refers to the act of creating a virtual (rather than actual) version of something, including virtual computer hardware platforms, storage devices, and computer network resources.\n",
    "\n",
    "Virtualization is very very important. Understanding virtual machine’s and creating virtual machines quickly to explore technologies is key to learn any technology faster.\n",
    "\n",
    "### Different tools for creating virtual machines\n",
    "To create virtual machines we should have one of the following software.\n",
    "\n",
    "Virtualization tools(PC):\n",
    "* VMWare Workstation (Windows)\n",
    "* VMWare Fusion (Mac)\n",
    "* VirtualBox (open source)\n",
    "* KVM (Linux)\n",
    "\n",
    "Here, we will be using VirtualBox."
   ]
  },
  {
   "cell_type": "markdown",
   "metadata": {},
   "source": [
    "### Setting up virtual box\n",
    "* To download the VirtualBox application, Go to **https://www.virtualbox.org/wiki/Downloads**\n",
    "\n",
    "It looks like this\n",
    "* From the list, you can select windows hosts. Then it will download.\n",
    "* Once the download is completed, go to the location where you have saved the file and double-click on it. A welcome window will open. Hit next and accept the conditions. Click next to install the VirtualBox in your computer.\n",
    "* Next window will ask you to install the VirtualBox. Go ahead and hit Install\n",
    "* VirtualBox will be installed in your computer. This process will take a few minutes.\n",
    "* Once the installation is completed hit Finish and open the VirtualBox in your computer.\n",
    "\n",
    "### Creating a virtual host and installing the operating system\n",
    "* Now if you want to create a virtual machine using VirtualBox you have to have operating system image.\n",
    "* Before downloading the OS you can create a virtual host.\n",
    "* Open VirtualBox and Click on New and choose the operating system you want to install. Here we are using centos7 of Linux type with Red Hat (64-bit) version.\n",
    "* Now, select the amount of memory(RAM) in megabytes. Here we have given 2GB of memory.\n",
    "* Create a virtual hard drive. Here we given 8GB of storage.\n",
    "* Then, click on continue and continue and create. Now, it has created a Virtual Machine.\n",
    "* Now, you can download the centos7 image and install the OS.\n",
    "\n",
    "### Features such as cloning, firewalls etc\n",
    "When you **clone** a drive, you make an exact copy of the virtual machine that can be used on either the same host or moved to another **VirtualBox** host. The process of **cloning** and moving a virtual machine is now easy in VirtualBox. In fact, there are no more commands for **cloning**, as the process is built into the GUI.\n",
    "\n",
    "### Automating creation of multiple VMs using tools like vagrant\n",
    "* To use vagrant you need to have VirtualBox or KVM or any virtualization software.\n",
    "* Go to **vagrantup.com**\n",
    "* Download vagrant and install it.\n",
    "\n",
    "Then use below commands to set up Vagrant"
   ]
  },
  {
   "cell_type": "raw",
   "metadata": {},
   "source": [
    "vagrant"
   ]
  },
  {
   "cell_type": "raw",
   "metadata": {},
   "source": [
    "mkdir vm"
   ]
  },
  {
   "cell_type": "raw",
   "metadata": {},
   "source": [
    "cd vm"
   ]
  },
  {
   "cell_type": "raw",
   "metadata": {},
   "source": [
    "vagrant init centos/7"
   ]
  },
  {
   "cell_type": "raw",
   "metadata": {},
   "source": [
    "vagrant up"
   ]
  },
  {
   "cell_type": "raw",
   "metadata": {},
   "source": [
    "vagrant ssh"
   ]
  },
  {
   "cell_type": "markdown",
   "metadata": {},
   "source": [
    "### Multi-node\n",
    "This is to create multiple virtual machines using vagrant script\n",
    "\n",
    "### Instructions:\n",
    "* Clone the repository\n",
    "* Make necessary changes to manifest.yml\n",
    "* It can create up to 10 virtual machines\n",
    "* manifest.yml have the default settings.\n",
    "* This will create 6 virtual machines from 192.168.100.210 to 192.168.100.215\n",
    "* Each virtual machine is of size 8 GB memory and 2 CPUs\n",
    "* Each virtual machine will be created with 2 virtual hard drives which can expand up to 60 GB each\n",
    "* Values related to virtual hard drives are hardcoded and hence make sure to understand side effects if you use to create them on local PC.\n",
    "\n",
    "Following are the files you need to create:\n",
    "* manifest.yml\n",
    "* Vagrantfile\n",
    "* bootstrap.sh"
   ]
  },
  {
   "cell_type": "raw",
   "metadata": {},
   "source": [
    "useradd  -mG wheel hadoop\n",
    "echo itversity | passwd hadoop --stdin\n",
    "sed -i \"s/PasswordAuthentication no/PasswordAuthentication yes/g\" /etc/ssh/sshd_config\n",
    "\n",
    "sed -i \"s/%wheel\\tALL=(ALL)\\tALL/# %wheel\\tALL=(ALL)\\tALL/g\" /etc/sudoers\n",
    "sed -i \"s/# %wheel\\tALL=(ALL)\\tNOPASSWD: ALL/%wheel\\tALL=(ALL)\\tNOPASSWD: ALL/g\" /etc/sudoers\n",
    "\n",
    "service sshd restart"
   ]
  },
  {
   "cell_type": "raw",
   "metadata": {},
   "source": [
    "---\n",
    "  instances: 6\n",
    "  name_prefix: pvc00 \n",
    "  memory: 8192\n",
    "  cpus: 2\n",
    "  privateip_prefix: 192.168.100.21\n",
    "  bootstrap: bootstrap.sh"
   ]
  },
  {
   "cell_type": "markdown",
   "metadata": {},
   "source": [
    "### multinode\n",
    "This is to create multiple virtual machines using vagrant script\n",
    "\n",
    "### Reference video\n",
    "* We have demonstrated as part of video in YouTube channel\n",
    "* You can watch the video from this [blog post](https://kaizen.itversity.com/courses/linux-fundamentals-for-software-professionals/)\n",
    "\n",
    "### Instructions\n",
    "* Clone the repository\n",
    "* Make necessary changes to manifest.yml\n",
    "* It can create up to 10 virtual machines\n",
    "* manifest.yml have the default settings.\n",
    "* This will create 6 virtual machines from 192.168.100.210 to 192.168.100.215\n",
    "* Each virtual machine is of size 8 GB memory and 2 CPUs\n",
    "* Each virtual machine will be created with 2 virtual hard drives which can expand up to 60 GB each\n",
    "* Values related to virtual hard drives are hardcoded and hence make sure to understand side effects if you use to create them on local PC."
   ]
  },
  {
   "cell_type": "raw",
   "metadata": {},
   "source": [
    "#-*- mode: ruby -*-\n",
    "#vi: set ft=ruby :\n",
    "#All Vagrant configuration is done below. The \"2\" in Vagrant.configure\n",
    "#configures the configuration version (we support older styles for\n",
    "#backwards compatibility). Please don't change it unless you know what\n",
    "#you're doing.\n",
    "require 'yaml'\n",
    "cnf = YAML::load(File.open('manifest.yml'))\n",
    "instances = cnf['instances'].to_i\n",
    "\n",
    "Vagrant.configure(\"2\") do |config|\n",
    "  config.vm.box = \"centos/7\"\n",
    "\n",
    "  instances.times do |i|\n",
    "    node_id = cnf['name_prefix'] + \"#{i}\"\n",
    "    config.vm.define node_id do |node|\n",
    "      node.vm.box = \"centos/7\"\n",
    "      node.vm.hostname = \"#{node_id}\"\n",
    "      node.vm.network \"private_network\", ip: cnf['privateip_prefix'] + \"#{i}\"\n",
    "      node.vm.provider :libvirt do |lvm|\n",
    "        lvm.memory = cnf['memory']\n",
    "        lvm.cpus = cnf['cpus']\n",
    "        lvm.storage :file, :size => '60G'\n",
    "        lvm.storage :file, :size => '60G'\n",
    "      end\n",
    "      node.vm.provision \"shell\", path: cnf[\"bootstrap\"]\n",
    "    end\n",
    "  end\n",
    "end"
   ]
  },
  {
   "cell_type": "raw",
   "metadata": {},
   "source": [
    "Use below commands to create virtual machines\n",
    "\n",
    "ssh demo@itversity.com\n",
    "\n",
    "git clone git@github.com:dgadiraju/multinode.git\n",
    "\n",
    "cd multinode\n",
    "\n",
    "yum install wget telnet - install wget and telnet packages\n",
    "\n",
    "sudo vagrant up\n",
    "\n",
    "sudo vagrant status\n",
    "\n",
    "sudo vagrant ssh pvc000 - To connect to pvc000\n",
    "\n",
    "cat /etc/hosts|grep pvc - list all vm's\n",
    "\n",
    "sudo vagrant destroy    - To terminate all virtual machines\n",
    "\n",
    "go to bootstrap.sh file and Download hadoop"
   ]
  }
 ],
 "metadata": {
  "kernelspec": {
   "display_name": "Python 3",
   "language": "python",
   "name": "python3"
  },
  "language_info": {
   "codemirror_mode": {
    "name": "ipython",
    "version": 3
   },
   "file_extension": ".py",
   "mimetype": "text/x-python",
   "name": "python",
   "nbconvert_exporter": "python",
   "pygments_lexer": "ipython3",
   "version": "3.6.8"
  }
 },
 "nbformat": 4,
 "nbformat_minor": 4
}
