{
 "cells": [
  {
   "cell_type": "markdown",
   "metadata": {},
   "source": [
    "# Understanding AWS in detail"
   ]
  },
  {
   "cell_type": "markdown",
   "metadata": {},
   "source": [
    "Let us understand AWS as IaaS (Infrastructure as a Service). We will see all the basic concepts important to understand for provisioning instances on AWS.\n",
    "* Overview of Web Console\n",
    "* Regions\n",
    "* Key Pairs\n",
    "* Networking (private ip, elastic ip, VPC)\n",
    "* Security Groups\n",
    "* Storage (Instance Store, EBS, EFS, S3 with different levels)\n",
    "* Understanding Pricing\n",
    "* Launching EC2 instances\n",
    "* Amazon Machine Images\n",
    "* Volumes and Snapshots\n",
    "* Community AMIs and Marketplace\n",
    "* Pricing Calculator\n",
    "* Different categories of Services\n",
    "    * RDS\n",
    "    * Analytics\n",
    "    * and many more\n",
    "* Overview about AWS CLI\n",
    "* Concept of bastion server\n",
    "* Port Forwarding and FoxyProxy\n",
    "\n",
    "***What is AWS?***\n",
    "\n",
    "* Amazon Web Services (AWS) is a secure cloud services platform, offering computing power, database storage, content delivery and other functionality to help businesses scale and grow.\n",
    "* "
   ]
  },
  {
   "cell_type": "markdown",
   "metadata": {},
   "source": [
    "Explore how millions of customers are currently leveraging AWS cloud products and solutions to build sophisticated applications with increased flexibility, scalability and reliability.\n",
    "\n",
    "***Key Pairs***\n",
    "\n",
    "***Storage***\n",
    "* When we create a machine a storage will allocate to our machine.\n",
    "* By default, the storage is 20G for one machine\n",
    "* Once shout down or terminate the machine our instance store will be disconnect from our machine, We can’t reuse for other machines\n",
    "* EBS (Elastic Block Storage) is a external storage from the data center.\n",
    "* If we lost our VM, We can mount EBS based storage to other VM without losing any data.\n",
    "* S3 (Simple Storage Service) is cloud-based storage\n",
    "\n",
    "# *Understand the EC2 Pricing, Create and Connect to EC2 instance*\n",
    "* Amazon Web Services (AWS) offers a range of cloud computing services.\n",
    "* For each service, you pay for exactly the amount of resources you actually need.\n",
    "* To Know pricing details, click here.\n",
    "* For learning purposes, we go through on-demand pricing.\n",
    "* EC2 is CPU, Memory, and storage.\n",
    "* Based on what you want to do with EC2 in AWS, the price varies.\n",
    "* It’s better to choose the free version of Linux instead of Enterprise Linux.\n",
    "* Once you create the cluster, if you use it or not, charges are applicable on an hourly basis.\n",
    "* To check the pricing, click here.\n",
    "\n",
    "E.g.: If we want to build 6 nodes and spend 300 hours of running over a period of 2 months. For 6 instances, total hours will be 1800 hours. If we take m4.Large machines with vanilla Linux configuration which 10 cents as per below image. So the cost will be 1800 * 0.10 = $180 for EC2 machines. If we run the cluster 24 hours in the 2 months (60 days) it will cost us $864 for 1440 (60 * 24) hours.\n",
    "\n",
    "In the next video, we will see how to create or connect ec2 instance for our requirement.\n",
    "\n",
    "***Create your first EC2 Instance***\n",
    "* Login AWS console\n",
    "* Understand the which region you are.\n",
    "* Search or choose EC2 from the services\n",
    "* Click on the launch instance to create ec2 instance\n",
    "* Choose an Amazon Machine Image(AMI)–You can choose Free Tier or Enterprise based Linux EC2 instance, as per your requirement.\n",
    "    * Search on AWS marketplace (E.g: Centos)\n",
    "* Choose an Instance Type (CPU and Memory)\n",
    "    * Select your instance type, and click next.\n",
    "        * E.g: General Purpose (t2.large), Compute Optimizes (c5.large) etc.\n",
    "    * Based on the instance type, machine CPU, memory and storage will be configured for the machine.\n",
    "* Configure Instance details (Networking)\n",
    "    * Two important things for server on top of memory and cpu is networking and storage.\n",
    "    * Choose number of instances that you want to launch and network (default VPC created by amazon).\n",
    "        * You will get your own VPC (Virtual Private Cloud Name) within ec2 machines\n",
    "* Add Storage\n",
    "    * By default, will get 8 GB as part if free tier storage, change the size according to your requirement\n",
    "    * Choose volume type – Magnetic or SSD\n",
    "* Add tags\n",
    "    * Just for your reference, generally Name key will be added.\n",
    "    * E.g.: Key: Name – Value: centos7freetier\n",
    "* Configure Security Group or Firewall\n",
    "    * Choose Create a new security group\n",
    "    * Enter Security Group Name (E.g:centos7freetierdemo)\n",
    "    * Only SSH is made available to connect to the system remotely.\n",
    "* Review\n",
    "    * If you want to do any changes , you can change any configuration of your machine at this step based on suggestions or requirement.\n",
    "* Launch the Instance\n",
    "    * Whenever we provision machine, it will ask you create new keypair.\n",
    "    * Important to connect the machine, Give the name (E.g: freetierdemo)\n",
    "    * Download the key pair with .pem extension (Only at this step you can download this file)\n",
    "    * And then click on Launch instance.\n",
    "    \n",
    "**Note:** Understand cost associated with each instance before provisioning any instance.\n",
    "\n",
    "### Connecting to EC2 Instance\n",
    "* Go to AWS Management Console, Choose the instance you want to connect, make sure it is running without any issues and click connect which prompts a window asking Open any available SSH Client.\n",
    "* In this video, we will be connecting to the instance using the Cygwin (SSH client) which we configured in the previous step.\n",
    "* Copy the key pair and paste it in C:\\Cygwin\\home\\username\n",
    "* Open the Cygwin, change the permissions as per instructions."
   ]
  },
  {
   "cell_type": "raw",
   "metadata": {},
   "source": [
    "chmod 400 filename.pem"
   ]
  },
  {
   "cell_type": "markdown",
   "metadata": {},
   "source": [
    "* Use the given command or below sample command to connect the instance."
   ]
  },
  {
   "cell_type": "raw",
   "metadata": {},
   "source": [
    "sh -i “filename.pem” username@Public-DNS-name"
   ]
  },
  {
   "cell_type": "markdown",
   "metadata": {},
   "source": [
    "* You should access the instance command shell, and validate the configuration by the below sample commands."
   ]
  },
  {
   "cell_type": "raw",
   "metadata": {},
   "source": [
    "hostname -f : To check the hostname of the machione\n",
    "\n",
    "df -h: To check the storage details\n",
    "\n",
    "Cat /etc/redhat-release : To check the OS information"
   ]
  },
  {
   "cell_type": "markdown",
   "metadata": {},
   "source": [
    "### Understanding EC2 dashboard left Menu\n",
    "* Once login to the console, Go to EC2 dashboard.\n",
    "* On EC2 Dashboard, you can see the below details on the left panel.\n",
    "    * Events – It shows what are the things we did in EC2 Instance.\n",
    "    * Tags – To represent information about EC2 instances.\n",
    "    * Reports – A set of reports that shows cost and usage for your usage of EC2.Use these reports to analyze your usage of EC2.\n",
    "    * Limits – How many instances you are provisioning at any point in time and use up to 20.\n",
    "    * Images: AMI -Amazon Machine Image-If you want to re-create instances, have to create AMI.\n",
    "    * Elastic Block Store\n",
    "    * Snapshot -Image of a volume at a given point in time.\n",
    "    * Volumes\n",
    "    * Keypair\n",
    "    * Security Groups"
   ]
  },
  {
   "cell_type": "markdown",
   "metadata": {},
   "source": [
    "### Different EC2 Instance states\n",
    "We have different states for EC2 instance, To get the instance states of EC2, go to Actions-> Instance state.\n",
    "* Start – To start EC2 machine if it is in the stop state, doesn’t work if the instance is running.\n",
    "* Stop – To stop the running EC2 instance\n",
    "* Reboot – To restart the instance, it will typically happen in minutes\n",
    "* Terminate – To completely remove or destroy the instance, it will remove all the resources with respect to EC2.\n",
    "\n",
    "The two main impacts when you restart instance are:\n",
    "* Public DNS will be changed – We can overcome these using elastic IPs topic, which will be explained in the next topic.\n",
    "* Storage – Once you stop and start the instance, all the information in the instance storage will be deleted. So we will be allocating EBS storage for the root file system where all OS related and required software files will be stored."
   ]
  },
  {
   "cell_type": "markdown",
   "metadata": {},
   "source": [
    "### Describing EC2 Instance\n",
    "There are two ways to get the description or details of an EC2 instance.\n",
    "* One is in a Tabular format where you can see the selected instance information in a single row like state, public DNS etc.\n",
    "* The second one is by selecting a particular single instance, the details will appear at the bottom of Description tab.\n",
    "* If multiple numbers of Instances are there, we can choose multiple of them, but we cant able to see all the details of instances at a time. So, we have to choose one instance to get the EC2 Instance details.\n",
    "* In the description tab, we can get the following the details\n",
    "\n",
    "In the description tab, we can get the following the details\n",
    "* Unique instance id\n",
    "* State – running or stopped\n",
    "* Instance type – E.g.: m4.large\n",
    "* Elastic IPs\n",
    "* Availability Zones – In each region, there can be multiple subnets within the data center, called as Availability Zones.\n",
    "* Security groups- will be generated at the time of instance creation\n",
    "* AMI ID – Associated AMI ID gets generated from when we procured from Marketplace.\n",
    "* Keypair Name – keypair associated with the selected instance\n",
    "* Public DNS – Used to connect instance from remote using ssh, Public DNS is derived from Public IP.\n",
    "* Private DNS is derived from Private IP. Private DNS will not change and used as a fully qualified hostname.\n",
    "* VPC ID – Virtual Private Cloud iD, used to create a network of computers.\n",
    "* The storage information can be seen at Root and device fields and type of the storage. You can click on the storage or volume id to know more about information.\n",
    "\n",
    "There is much more information about instance which is not at this stage, and all this information will help us to troubleshoot any issues with the server or cluster."
   ]
  },
  {
   "cell_type": "markdown",
   "metadata": {},
   "source": [
    "# *Using elastic ips to connect to EC2 Instance*\n",
    "* Each EC2 Instance will have a private and public IP.\n",
    "* From private IP, Private DNS will be created and from public IP, public DNS will be created.\n",
    "* When you stop and start the instance, the public DNS will be re-assigned.\n",
    "\n",
    "Registering IP address:\n",
    "* Go to Network & Security on EC2 dashboard, in the Elastic IP menu, click on allocate the new address to get the IP address registered with your account.\n",
    "* You can also give the name to IP address.\n",
    "\n",
    "Associating the IP address to the instance:\n",
    "* To allocate registered IP address with an instance, Select the IP, click on Actions and then “Associate Address”.\n",
    "* Select the instance to which IP address should be allocated and Click on “Associate”.\n",
    "* Now, you are associated with rented Elastic IP to EC2 instance, You can stop and start EC2 Instance, the public DNS or IP will not be changed.\n"
   ]
  },
  {
   "cell_type": "markdown",
   "metadata": {},
   "source": [
    "### Using security groups to provide security to EC2 Instance\n",
    "A security group acts as a virtual firewall that controls the traffic for one or more instances. You can modify the rules for a security group at any time; the new rules are automatically applied to all instances that are associated with the security group.\n",
    "* We can create a security group with certain rules and apply one security group to multiple servers.\n",
    "* Each account will have a default security group created.\n",
    "* By default, security groups allow all outbound traffic.\n",
    "\n",
    "To create a new security group using the console\n",
    "* Open the Amazon EC2 dashboard\n",
    "* In the left navigation pane, choose Security Groups and Create Security Group.\n",
    "* Specify a name and description for the security group.\n",
    "* You can start adding rules once it is created.E\n",
    "* Each Security group will have description, inbound, outbound and tags information at the bottom which displays necessary information.\n",
    "    * Description – name, id, description and VPC id information will be shown.\n",
    "    * Inbound – What ports are open to connecting to the server\n",
    "    * Outbound – What or how an instance can connect to the other servers\n",
    "    * To update a security group, choose the instance and click on Actions–>Edit Inbound Rules/Edit Outbound Rules\n",
    "\n",
    "Troubleshooting the connection issues\n",
    "* To check, whether the port number is connected or not, we can use Telnet.\n",
    "* To connect telnet, we can use the below command"
   ]
  },
  {
   "cell_type": "raw",
   "metadata": {},
   "source": [
    "telnet <public_DNS> <port_number>"
   ]
  },
  {
   "cell_type": "markdown",
   "metadata": {},
   "source": [
    "### Understanding the concept of bastion server\n",
    "As the number of EC2 instances in your AWS environment grows, so does the number of administrative access points to those instances.\n",
    "A bastion is a special purpose server instance To give the controlled access to all remaining servers, that is designed to be the primary access point from the Internet and acts as a proxy to your other EC2 instances.\n",
    "* Bastion Server is also known as Gateway node or Client node.\n",
    "* If the number of servers is going to increase, then there are security issues.\n",
    "* To resolve that issue is, give access to some servers, from there we can access the others.\n",
    "* If anyone wants to access the rest of servers, needs to connect to bastion server.\n",
    "\n",
    "### What is AWS CLI?\n",
    "* The AWS Command Line Interface (CLI) is a unified tool to manage your AWS services.\n",
    "* Using AWS CLI, we can manage the resources and delete the resources."
   ]
  },
  {
   "cell_type": "markdown",
   "metadata": {},
   "source": [
    "### Setting up AWS CLI in Windows\n",
    "For AWS CLI, [click here](https://docs.aws.amazon.com/cli/latest/userguide/install-windows.html).\n",
    "\n",
    "To install AWS CLI in windows, please follow the below.\n",
    "* MSI Installer\n",
    "* Install Python, pip and AWS CLI on Windows.\n",
    "* Adding the AWS CLI Executable to your command line path.\n",
    "\n",
    "***MSI Installer***\n",
    "* MSI is Microsoft Installer.\n",
    "* The MSI installation package offers a familiar and convenient way to install the AWS CLI without installing any other prerequisites.\n",
    "* To download the MSI Installer, [click here](https://docs.aws.amazon.com/cli/latest/userguide/install-windows.html#install-msi-on-windows).\n",
    "* Run the downloaded MSI Installer.\n",
    "\n",
    "**Install Python, pip and AWS CLI on Windows.**\n",
    "* Download Python.\n",
    "* Choose Add Python 3.6 to PATH.\n",
    "* Choose Install Now.\n",
    "\n",
    "**To install the AWS CLI with pip (Windows)**\n",
    "Verify the Python and pip are installed or not.\n",
    "\n",
    "C:\\Windows\\System32> <mark>python --version</mark> Python 3.6.2 C:\\Windows\\System32> <mark>pip --version</mark>. pip 9.0.1 from c:\\users\\myname\\appdata\\local\\programs\\python\\python36\\lib\\site-packages (python 3.6)\n",
    "\n",
    "***CLI Executable to your Command Line Path***\n",
    "* Install the AWS CLI using pip using the below.\n",
    "\n",
    "    <mark>C:\\Windows\\System32> pip install awscli</mark>\n",
    "* To verify the AWS,\n",
    "\n",
    "    C:\\Windows\\System32> <mark>aws --version</mark>\n",
    "* Check the configure of AWS CLI, use,$ aws configure, then it prompts for AWS Access key id and AWS Secret ID.\n",
    "\n",
    "***Adding the AWS CLI Executable to your Command Line Path***\n",
    "\n",
    "To modify your PATH variable (Windows)\n",
    "* Choose Edit environment variables for your account.\n",
    "* Choose PATH and then choose Edit.\n",
    "* Add paths to the Variable value field, separated by semicolons.\n",
    "* Close any running command prompts and re-open.\n",
    "\n",
    "Here is the playlist to learn AWS in detail:"
   ]
  }
 ],
 "metadata": {
  "kernelspec": {
   "display_name": "Python 3",
   "language": "python",
   "name": "python3"
  },
  "language_info": {
   "codemirror_mode": {
    "name": "ipython",
    "version": 3
   },
   "file_extension": ".py",
   "mimetype": "text/x-python",
   "name": "python",
   "nbconvert_exporter": "python",
   "pygments_lexer": "ipython3",
   "version": "3.6.8"
  }
 },
 "nbformat": 4,
 "nbformat_minor": 4
}
