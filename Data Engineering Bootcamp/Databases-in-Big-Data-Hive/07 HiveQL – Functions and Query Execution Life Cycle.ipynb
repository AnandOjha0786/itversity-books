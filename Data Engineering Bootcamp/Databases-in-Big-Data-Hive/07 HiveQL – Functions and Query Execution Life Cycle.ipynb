{
 "cells": [
  {
   "cell_type": "markdown",
   "metadata": {},
   "source": [
    "# HiveQL – Functions and Query Execution Life Cycle"
   ]
  },
  {
   "cell_type": "markdown",
   "metadata": {},
   "source": [
    "As part of this topic, We will cover more hive functions like joins and aggregation using orders table.\n",
    "### Hive Functions\n",
    "***Miscellaneous***\n",
    "* nvl –   Writing a logic to get age based on birthdate if it is null"
   ]
  },
  {
   "cell_type": "raw",
   "metadata": {},
   "source": [
    "emp - empno, empname, age, birth_date"
   ]
  },
  {
   "cell_type": "raw",
   "metadata": {},
   "source": [
    "nvl(age,current_date - birth_date) - if(age is null)current_date - birth_date"
   ]
  },
  {
   "cell_type": "markdown",
   "metadata": {},
   "source": [
    "* case"
   ]
  },
  {
   "cell_type": "raw",
   "metadata": {},
   "source": [
    "select case when order_status in (\"CLOSED\", \"COMPLETE\") then \"COMPLETED\"\n",
    "when order_status in (\"PAYMENT_REVIEW\", \"PENDING\", \"PENDING_PAYMENT\", \"PROCESSING\") then \"PENDING\" \n",
    "else \"order_status\" \n",
    "end \n",
    "from orders limit 10;"
   ]
  },
  {
   "cell_type": "markdown",
   "metadata": {},
   "source": [
    "***Aggregate Functions***"
   ]
  },
  {
   "cell_type": "raw",
   "metadata": {},
   "source": [
    "select sum(order_items_subtotal) from order_items where order_item_order_id=2;"
   ]
  },
  {
   "cell_type": "markdown",
   "metadata": {},
   "source": [
    "Get top N orders per day\n",
    "\n",
    "* We will take completed or closed orders"
   ]
  },
  {
   "cell_type": "markdown",
   "metadata": {},
   "source": [
    "SELECT * FROM orders WHERE order_status IN('COMPLETE','CLOSED' LIMIT 10;"
   ]
  },
  {
   "cell_type": "raw",
   "metadata": {},
   "source": [
    "SELECT o.order_date,o.order_id , sum(oi.order_item_subtotal) FROM orders o \n",
    "JOIN order_items oi \n",
    "ON o.order_id=oi.order_item_order_id\n",
    "WHERE order_status IN('COMPLETE','CLOSED')\n",
    "GROUP BY o.order_date, o.order_id\n",
    "ORDER BY o.order_date,order_revenue desc\n",
    "LIMIT 10;"
   ]
  },
  {
   "cell_type": "raw",
   "metadata": {},
   "source": [
    "SELECT o.order_date,o.order_id ,oi.order_item_subtotal FROM orders o \n",
    "JOIN order_items oi \n",
    "ON o.order_id=oi.order_item_order_id\n",
    "WHERE order_status IN('COMPLETE','CLOSED') and o.order_id=4\n",
    "GROUP by o.order_date, o.order_id\n",
    "LIMIT 10;"
   ]
  },
  {
   "cell_type": "markdown",
   "metadata": {},
   "source": [
    "***Analytics Functions***\n",
    "* To get order revenue by rank"
   ]
  },
  {
   "cell_type": "raw",
   "metadata": {},
   "source": [
    "SELECT order_date,order_id,order_revenue,\n",
    "rank() OVER (PARTITION BY order_date ORDER BY order_revenue DESC)rnk FROM(\n",
    "SELECT o.order_date,o.order_id , sum(oi.order_item_subtotal) order_revenue\n",
    "FROM orders o\n",
    "JOIN order_items oi \n",
    "ON o.order_id=oi.order_item_order_id\n",
    "WHERE order_status IN('COMPLETE','CLOSED')\n",
    "GROUP BY o.order_date, o.order_id\n",
    ")q \n",
    "LIMIT 10;"
   ]
  },
  {
   "cell_type": "markdown",
   "metadata": {},
   "source": [
    "* To get only top five order revenue by date\n",
    "    * When we run the below query it is running in three jobs when auto.convert.join is set to false if it is set to true it is running only two jobs\n",
    "    * Join and Aggregation done in one job when auto joins enabled.\n",
    "        * First job – Join\n",
    "        * Second job – Aggregated\n",
    "        * Third job – ordering the data"
   ]
  },
  {
   "cell_type": "raw",
   "metadata": {},
   "source": [
    "SELECT * FROM (SELECT order_date,order_id,order_revenue,\n",
    "rank() OVER (PARTITION BY order_date ORDER BY order_revenue DESC)rnk FROM(\n",
    "SELECT o.order_date,o.order_id , sum(oi.order_item_subtotal) order_revenue\n",
    "FROM orders o\n",
    "JOIN order_items oi \n",
    "ON o.order_id=oi.order_item_order_id\n",
    "WHERE order_status IN('COMPLETE','CLOSED')\n",
    "GROUP BY o.order_date, o.order_id\n",
    ")q)q1\n",
    "WHERE rnk<=5\n",
    "LIMIT 10;"
   ]
  }
 ],
 "metadata": {
  "kernelspec": {
   "display_name": "Apache Toree - SQL",
   "language": "sql",
   "name": "apache_toree_sql"
  },
  "language_info": {
   "codemirror_mode": "text/x-sql",
   "file_extension": ".sql",
   "mimetype": "text/x-sql",
   "name": "sql",
   "pygments_lexer": "sql",
   "version": "2.2.2"
  }
 },
 "nbformat": 4,
 "nbformat_minor": 4
}
