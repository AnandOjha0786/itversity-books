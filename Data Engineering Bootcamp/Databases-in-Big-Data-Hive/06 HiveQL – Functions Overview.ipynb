{
 "cells": [
  {
   "cell_type": "markdown",
   "metadata": {},
   "source": [
    "# HiveQL – Functions Overview"
   ]
  },
  {
   "cell_type": "markdown",
   "metadata": {},
   "source": [
    "As part of this topic, We will cover the overview of relational databases. We will also see an overview of functions available in the hive with examples.\n",
    "* Relational databases\n",
    "* Introduction to hive functions\n",
    "### Hive Functions – Comparison with RDBMS\n",
    "### Hive Functions – Hive Functions – Overview\n",
    "### Hive Functions – Extracting Information from Strings\n",
    "### Hive Functions – Trimming, Padding and Concatenating\n",
    "### Hive Functions – Replace and Type Conversion\n",
    "### Hive Functions – Date Arithmetic Functions\n",
    "### Hive Functions – Extracting Information from Dates\n",
    "### Hive Functions – Unix Timestamp Functions\n",
    "\n",
    "***RDBMS***\n",
    "* undamentally it is for mission-critical online transactional application\n",
    "* Schema on write\n",
    "* Support for indexes\n",
    "* List, range, hash\n",
    "\n",
    "***SQL***\n",
    "* Select or project the data\n",
    "* Filtering (horizontal and vertical)\n",
    "* Aggregations (sum, min, max, sd, variance, avg, mean)\n",
    "* Sorting the data (global or based on a key)\n",
    "* Ranking on the data (global or based on a key)\n",
    "* Joins\n",
    "* Set operations\n",
    "\n",
    "***HIVE***\n",
    "* This is for offline batch data processing\n",
    "* Schema on read\n",
    "* No support for indexes\n",
    "* Partitioning (list), bucketing\n",
    "\n",
    "***Hive Functions***\n",
    "* To list the available functions in Hive use below command."
   ]
  },
  {
   "cell_type": "raw",
   "metadata": {},
   "source": [
    "show function;"
   ]
  },
  {
   "cell_type": "markdown",
   "metadata": {},
   "source": [
    "* To get usage/description of the function"
   ]
  },
  {
   "cell_type": "raw",
   "metadata": {},
   "source": [
    "describe function funtionname;"
   ]
  },
  {
   "cell_type": "markdown",
   "metadata": {},
   "source": [
    "* Types of functions available in Hive\n",
    "    * String manipulations\n",
    "    * Case conversion: lower, upper, initcap"
   ]
  },
  {
   "cell_type": "raw",
   "metadata": {},
   "source": [
    "select lower(order_status) from orders limit 10;"
   ]
  },
  {
   "cell_type": "markdown",
   "metadata": {},
   "source": [
    "* Extracting substring: substr, split"
   ]
  },
  {
   "cell_type": "raw",
   "metadata": {},
   "source": [
    "select substr(\"Hello world\",3,3);"
   ]
  },
  {
   "cell_type": "raw",
   "metadata": {},
   "source": [
    "select substr(\"Hello worls\",-5);"
   ]
  },
  {
   "cell_type": "raw",
   "metadata": {},
   "source": [
    "select substr(order_date, 1,10) from orders limit 10"
   ]
  },
  {
   "cell_type": "raw",
   "metadata": {},
   "source": [
    "select split(order_date,' ')[0] from orders limit 10;"
   ]
  },
  {
   "cell_type": "markdown",
   "metadata": {},
   "source": [
    "* Indexing function: instr\n",
    "    * To list the first occurrence of the substring"
   ]
  },
  {
   "cell_type": "raw",
   "metadata": {},
   "source": [
    "select instr(order_date,'00')from orders limit 10;"
   ]
  },
  {
   "cell_type": "markdown",
   "metadata": {},
   "source": [
    "* Concat function: concat"
   ]
  },
  {
   "cell_type": "raw",
   "metadata": {},
   "source": [
    "select conct(2017,'-','02',-,'03');"
   ]
  },
  {
   "cell_type": "markdown",
   "metadata": {},
   "source": [
    "* Trimming functions: ltrim, rrim, trim\n",
    "    * It will trim only spaces on the left side"
   ]
  },
  {
   "cell_type": "raw",
   "metadata": {},
   "source": [
    "select ltrim(\"    Hello world\");"
   ]
  },
  {
   "cell_type": "raw",
   "metadata": {},
   "source": [
    "select trim(order_date) from orders where.length(trim(order_date) != length(order_date);"
   ]
  },
  {
   "cell_type": "markdown",
   "metadata": {},
   "source": [
    "* Padding functions: lpad, rpad"
   ]
  },
  {
   "cell_type": "raw",
   "metadata": {},
   "source": [
    "select concat(2017,'-',lpad(2,2,0),'-',lpad(3,2,0));"
   ]
  },
  {
   "cell_type": "markdown",
   "metadata": {},
   "source": [
    "* Getting length: length\n",
    "* Replacing characters or substring: regexp_replace, translate"
   ]
  },
  {
   "cell_type": "raw",
   "metadata": {},
   "source": [
    "select regexp_replace(split(order_date, \" \")[0], '-', '/') from orders limit 10;"
   ]
  },
  {
   "cell_type": "markdown",
   "metadata": {},
   "source": [
    "* For replacing characters we can use the translate function"
   ]
  },
  {
   "cell_type": "raw",
   "metadata": {},
   "source": [
    "select translate(\"hello world\", \"lo\", \"10\");"
   ]
  },
  {
   "cell_type": "markdown",
   "metadata": {},
   "source": [
    "* Date manipulation\n",
    "    * Current date – current_date, current_timestamp, to_date"
   ]
  },
  {
   "cell_type": "raw",
   "metadata": {},
   "source": [
    "select current_date;"
   ]
  },
  {
   "cell_type": "raw",
   "metadata": {},
   "source": [
    "select current_timestamp;"
   ]
  },
  {
   "cell_type": "raw",
   "metadata": {},
   "source": [
    "select to_date(order_date) from orders limit 10;"
   ]
  },
  {
   "cell_type": "markdown",
   "metadata": {},
   "source": [
    "* Arthematic functions – date_add, date_sub, datediff, months_between"
   ]
  },
  {
   "cell_type": "raw",
   "metadata": {},
   "source": [
    "select date_add(current_date, -4), date_add(current_date, -1);"
   ]
  },
  {
   "cell_type": "raw",
   "metadata": {},
   "source": [
    "select datediff(\"2018-06-15\", \"2018-02-10\");"
   ]
  },
  {
   "cell_type": "raw",
   "metadata": {},
   "source": [
    "select months_between(\"2018-06-15\", \"2018-02-10\");"
   ]
  },
  {
   "cell_type": "markdown",
   "metadata": {},
   "source": [
    "* Extraction function – year, month, date, next_date, trunc, last_day, day etc"
   ]
  },
  {
   "cell_type": "markdown",
   "metadata": {},
   "source": [
    "select year(current_date);"
   ]
  },
  {
   "cell_type": "raw",
   "metadata": {},
   "source": [
    "select month(current_date);"
   ]
  },
  {
   "cell_type": "raw",
   "metadata": {},
   "source": [
    "select day(current_date);"
   ]
  },
  {
   "cell_type": "raw",
   "metadata": {},
   "source": [
    "select date(current_date);"
   ]
  },
  {
   "cell_type": "raw",
   "metadata": {},
   "source": [
    "select trunc(current_date, 'MM');"
   ]
  },
  {
   "cell_type": "markdown",
   "metadata": {},
   "source": [
    "select trunc(current_date, 'YY');"
   ]
  },
  {
   "cell_type": "raw",
   "metadata": {},
   "source": [
    "select last_day(current_date);"
   ]
  },
  {
   "cell_type": "markdown",
   "metadata": {},
   "source": [
    "* Format function – date_format"
   ]
  },
  {
   "cell_type": "raw",
   "metadata": {},
   "source": [
    "select distinct date_format(order_date 'YYYY') from orders limit 10;"
   ]
  },
  {
   "cell_type": "raw",
   "metadata": {},
   "source": [
    "select date_format(current_date, 'dd');"
   ]
  },
  {
   "cell_type": "raw",
   "metadata": {},
   "source": [
    "select date_format(current_date, 'DD');"
   ]
  },
  {
   "cell_type": "raw",
   "metadata": {},
   "source": [
    "select date_format(current_timestamp, 'HH');"
   ]
  },
  {
   "cell_type": "raw",
   "metadata": {},
   "source": [
    "select date_format(current_timestamp, 'mm');"
   ]
  },
  {
   "cell_type": "markdown",
   "metadata": {},
   "source": [
    "select date_format(current_timestamp, 'SS');"
   ]
  },
  {
   "cell_type": "raw",
   "metadata": {},
   "source": [
    "select date_format(current_timestamp, 'ss');"
   ]
  },
  {
   "cell_type": "markdown",
   "metadata": {},
   "source": [
    "* Unix timestamp to/from database timestamp conversion function\n",
    "    * to_unix_timestamp\n",
    "    * unix_timestamp\n",
    "    * from_unixtime"
   ]
  },
  {
   "cell_type": "raw",
   "metadata": {},
   "source": [
    "select to_unix_timestamp(order_date,'YYYY-MM'), to_unix_timestamp(order_date) from orders limit 10;"
   ]
  },
  {
   "cell_type": "raw",
   "metadata": {},
   "source": [
    "select unix_timestamp(current_timestamp);"
   ]
  },
  {
   "cell_type": "raw",
   "metadata": {},
   "source": [
    "select unix_timestamp(current_timestamp);"
   ]
  },
  {
   "cell_type": "markdown",
   "metadata": {},
   "source": [
    "* type conversion"
   ]
  },
  {
   "cell_type": "raw",
   "metadata": {},
   "source": [
    "select * from orders where cast(substr(order_date,1,4) as int) = 2013 limit 10;"
   ]
  }
 ],
 "metadata": {
  "kernelspec": {
   "display_name": "Apache Toree - SQL",
   "language": "sql",
   "name": "apache_toree_sql"
  },
  "language_info": {
   "codemirror_mode": "text/x-sql",
   "file_extension": ".sql",
   "mimetype": "text/x-sql",
   "name": "sql",
   "pygments_lexer": "sql",
   "version": "2.2.2"
  }
 },
 "nbformat": 4,
 "nbformat_minor": 4
}
