{
 "cells": [
  {
   "cell_type": "markdown",
   "metadata": {},
   "source": [
    "# Hive Data Definition Language (Contd…)"
   ]
  },
  {
   "cell_type": "markdown",
   "metadata": {},
   "source": [
    "As part of this topic, we will cover\n",
    "* Comparison with RDBMS\n",
    "* Hive Delimiters\n",
    "* Hive Schema on Read\n",
    "* Creating Retail Database in Hive\n",
    "\n",
    "### Comparison with RDBMS\n",
    "Let us understand the difference between Hive Databases and traditional RDBMS Databases.\n",
    "* Traditional RDBMS is used for mission-critical transaction based applications.\n",
    "* There are some differences with respect to Data Types – eg: string is not available as the data type for tables in databases like Oracle.\n",
    "* Data Models are typically Normalized into parent tables and child tables.\n",
    "* Data is loaded into tables using DML statements like insert or using tools like SQLLDR.\n",
    "* We can access data from tables only using queries, we cannot directly read data from underlying files and make some sense out of it.\n",
    "\n",
    "### Hive Delimiters\n",
    "As Hive Table’s Metadata is decoupled from actual data, we typically need to specify delimiters while creating the tables using Text File Format. Let us understand more about the Delimiters in Hive tables of type Text File Format.\n",
    "* When we create tables in Hive, data will reside in HDFS and metadata will be in Metastore.\n",
    "* Using Hive Metastore we can query metadata of our tables.\n",
    "* **describe formatted** give all the details about metadata of a table.\n",
    "* LOCATION will tell us under which HDFS directory data resides\n",
    "* Unlike in RDBMS, we can access files in HDFS directly.\n",
    "* Even though we can run statements like insert, update and delete etc on Hive tables, it is not very common. There is a lot of overhead when ever we try to perform traditional DML statements on Hive tables.\n",
    "* We can use **show create table** command to get the statement which can be used to create table with similar structure else where.\n",
    "* We can specify delimiters for text data.\n",
    "* We need to use LOAD command to copy files into Hive tables directly or INSERT command to save query results into Hive table.\n",
    "* We will get into details with respect to LOAD and INSERT at a later point in time\n",
    "\n",
    "### Hive – Schema on Read\n",
    "Let us understand the concept of **Schema on Read** when it comes to Hive.\n",
    "* When we insert data into a hive table without any delimiter it will take ASCII null by default\n",
    "* We can use Describe formatted to locate out table HDFS location directly\n"
   ]
  },
  {
   "cell_type": "raw",
   "metadata": {},
   "source": [
    "DESCRIBE FORMATTED demo;"
   ]
  },
  {
   "cell_type": "markdown",
   "metadata": {},
   "source": [
    "* To get the data from HDFS we can use **hadoop fs -get** command"
   ]
  },
  {
   "cell_type": "raw",
   "metadata": {},
   "source": [
    "hadoop fs -get hdfs://nn01.itversity.com/apps/hive/warehouse/bootcampdemo_retail_db_txt.db/demo"
   ]
  },
  {
   "cell_type": "markdown",
   "metadata": {},
   "source": [
    "* To drop table use command drop"
   ]
  },
  {
   "cell_type": "raw",
   "metadata": {},
   "source": [
    "DROP demo;"
   ]
  },
  {
   "cell_type": "markdown",
   "metadata": {},
   "source": [
    "* If inserted data has more than defined size, Hive will omit the extra data and stores the data for defined size. It won’t specify any warnings like in SQL.\n",
    "* To know exact syntax of Hive create table by default"
   ]
  },
  {
   "cell_type": "raw",
   "metadata": {},
   "source": [
    "show create table demo;"
   ]
  },
  {
   "cell_type": "markdown",
   "metadata": {},
   "source": [
    "* Adding delimiter as ‘,’ use the below syntax"
   ]
  },
  {
   "cell_type": "raw",
   "metadata": {},
   "source": [
    "CREATE TABLE demo(\n",
    "i INT,\n",
    "s STRING,\n",
    "v VARCHAR(3))\n",
    "ROW FORMAT DELIMITED FIELDS TERMINATED BY ',';"
   ]
  },
  {
   "cell_type": "markdown",
   "metadata": {},
   "source": [
    "* Loading data from the external sources. We can load data from the local file system and HDFS.\n",
    "* When we load data from the file it will run faster than inserting one row by using insert command"
   ]
  },
  {
   "cell_type": "raw",
   "metadata": {},
   "source": [
    "LOAD DATA LOCAL INPATH '/home/training/demo.txt' INTO demo;"
   ]
  },
  {
   "cell_type": "markdown",
   "metadata": {},
   "source": [
    "* When we load the data which has wrong schema structure will be inserted into a table without any errors or warnings.\n",
    "* It will just replace with “NULL” where the schema is not satisfied. But the data remain like the original file in HDFS\n",
    "\n",
    "### Create Retail Database in Hive\n",
    "Let us create database for the retail tables in Hive.\n",
    "* We have data in the lab under location data"
   ]
  },
  {
   "cell_type": "raw",
   "metadata": {},
   "source": [
    "ls -ltr /data"
   ]
  },
  {
   "cell_type": "markdown",
   "metadata": {},
   "source": [
    "* We can invoke functions such as current_date, current_timestamp to get current system date and also to understand the default format."
   ]
  },
  {
   "cell_type": "markdown",
   "metadata": {},
   "source": [
    "select current_date;"
   ]
  },
  {
   "cell_type": "raw",
   "metadata": {},
   "source": [
    "select current_timestamp;"
   ]
  },
  {
   "cell_type": "markdown",
   "metadata": {},
   "source": [
    "* As our order_date is in timestamp format, let’s specify data type for order_status as timestamp and create orders table."
   ]
  },
  {
   "cell_type": "raw",
   "metadata": {},
   "source": [
    "CREATE TABLE orders(\n",
    "order_id INT,\n",
    "order_date TIMESTAMP,\n",
    "order_customer_id INT,\n",
    "order_status STRING\n",
    ") ROW FORMAT DELIMITED FIELDS TERMINATED BY ',';"
   ]
  },
  {
   "cell_type": "markdown",
   "metadata": {},
   "source": [
    "* Loading orders data into table orders"
   ]
  },
  {
   "cell_type": "raw",
   "metadata": {},
   "source": [
    "LOAD DATA LOCAL INPATH'/data/retail_db/orders' INTO TABLE orders;"
   ]
  },
  {
   "cell_type": "markdown",
   "metadata": {},
   "source": [
    "* If we need to validate loaded data and we want to select limit data to use the command"
   ]
  },
  {
   "cell_type": "raw",
   "metadata": {},
   "source": [
    "select * from orders limit 10;"
   ]
  }
 ],
 "metadata": {
  "kernelspec": {
   "display_name": "Apache Toree - SQL",
   "language": "sql",
   "name": "apache_toree_sql"
  },
  "language_info": {
   "codemirror_mode": "text/x-sql",
   "file_extension": ".sql",
   "mimetype": "text/x-sql",
   "name": "sql",
   "pygments_lexer": "sql",
   "version": "2.2.2"
  }
 },
 "nbformat": 4,
 "nbformat_minor": 4
}
