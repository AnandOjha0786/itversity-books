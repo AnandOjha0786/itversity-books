{
 "cells": [
  {
   "cell_type": "markdown",
   "metadata": {},
   "source": [
    "# Hive Data Definition Language (DDL)"
   ]
  },
  {
   "cell_type": "markdown",
   "metadata": {},
   "source": [
    "Now let us get into details about how to create tables in Hive using different approaches. We will be looking into simple tables as well as creating tables for query results using CTAS.\n",
    "* Hive Data Types\n",
    "* Creating Databases\n",
    "* Creating Tables\n",
    "* Create Table as Select\n",
    "\n",
    "### Hive Data Types\n",
    "Hive supports five types of data types.\n",
    "\n",
    "We can list those as below\n",
    "* Numeric Types\n",
    "    * Integer\n",
    "    * Decimal (Float and Double)\n",
    "    * Date/Time Types\n",
    "* String Types\n",
    "* Misc Types\n",
    "* Complex Types\n",
    "\n",
    "Below are the list of different data types available in Hive.\n",
    "\n",
    "***Primitive Types***\n",
    "\n",
    "* INT\n",
    "* BOOLEAN\n",
    "* DATE\n",
    "* TIMESTAMP\n",
    "* STRING\n",
    "* VARCHAR"
   ]
  },
  {
   "cell_type": "markdown",
   "metadata": {},
   "source": [
    "***array_type***"
   ]
  },
  {
   "cell_type": "raw",
   "metadata": {},
   "source": [
    "ARRAY < data_type >"
   ]
  },
  {
   "cell_type": "markdown",
   "metadata": {},
   "source": [
    "***map_type***"
   ]
  },
  {
   "cell_type": "raw",
   "metadata": {},
   "source": [
    "MAP < primitive_type, data_type >"
   ]
  },
  {
   "cell_type": "markdown",
   "metadata": {},
   "source": [
    "***struct_type***"
   ]
  },
  {
   "cell_type": "raw",
   "metadata": {},
   "source": [
    "data_type\n",
    "STRUCT < col_name : data_type [COMMENT col_comment], …>"
   ]
  },
  {
   "cell_type": "markdown",
   "metadata": {},
   "source": [
    "***union_type***"
   ]
  },
  {
   "cell_type": "raw",
   "metadata": {},
   "source": [
    "UNIONTYPE < data_type, data_type, … > — (Note: Available in Hive 0.7.0 and later"
   ]
  },
  {
   "cell_type": "markdown",
   "metadata": {},
   "source": [
    "### Creating a Database\n",
    "Let us see how we can create Databases in Hive.\n",
    "* To create a database in hive we will use create database command which we use same like relational databases."
   ]
  },
  {
   "cell_type": "raw",
   "metadata": {},
   "source": [
    "create database bootcampdemo_retail_db_txt;"
   ]
  },
  {
   "cell_type": "markdown",
   "metadata": {},
   "source": [
    "* It will create a DB directory over HDFS location under the warehouse. We can check our HDFS warehouse location."
   ]
  },
  {
   "cell_type": "raw",
   "metadata": {},
   "source": [
    "set hive.metastore.warehouse.dir;"
   ]
  },
  {
   "cell_type": "markdown",
   "metadata": {},
   "source": [
    "* To locate database from HDFS we use Linux regular expression command"
   ]
  },
  {
   "cell_type": "raw",
   "metadata": {},
   "source": [
    "hadoop fs -ls /apps/hive/warehouse/ | grep bootcampdemo_retail_db_txt"
   ]
  },
  {
   "cell_type": "markdown",
   "metadata": {},
   "source": [
    "* To ignore the duplicate database or tables while creating we use “if not exists” like SQL."
   ]
  },
  {
   "cell_type": "raw",
   "metadata": {},
   "source": [
    "create database if not exists bootcampdemo_retail_db_txt;"
   ]
  },
  {
   "cell_type": "markdown",
   "metadata": {},
   "source": [
    "* Switching between databases"
   ]
  },
  {
   "cell_type": "raw",
   "metadata": {},
   "source": [
    "Use bootcampdemo_retail_db_txt;"
   ]
  },
  {
   "cell_type": "markdown",
   "metadata": {},
   "source": [
    "### Creating Tables\n",
    "Let us see how we can create tables in Hive databases. The syntax is similar to traditional RDBMS Create Table command, however, there are some subtle differences which we should be aware of.\n",
    "* To create table use the below command"
   ]
  },
  {
   "cell_type": "raw",
   "metadata": {},
   "source": [
    "create table demo (i int,s string,v varchar(3));"
   ]
  },
  {
   "cell_type": "markdown",
   "metadata": {},
   "source": [
    "    * To describe the table use below command"
   ]
  },
  {
   "cell_type": "markdown",
   "metadata": {},
   "source": [
    "desc demo;"
   ]
  },
  {
   "cell_type": "markdown",
   "metadata": {},
   "source": [
    "* Inserting data in to table demo"
   ]
  },
  {
   "cell_type": "raw",
   "metadata": {},
   "source": [
    "insert into demo values (1, \"Hello\", \"World\");"
   ]
  },
  {
   "cell_type": "markdown",
   "metadata": {},
   "source": [
    "* Hive supports CRUD operations with some restrictions. However, it is not very common to use CRUD operations in Hive. It runs Map Reduce jobs and the overhead is very high.\n",
    "* We can run standard SQL type of queries to query data from the table."
   ]
  },
  {
   "cell_type": "raw",
   "metadata": {},
   "source": [
    "select * from demo;"
   ]
  },
  {
   "cell_type": "markdown",
   "metadata": {},
   "source": [
    "* Hive always stores its data in HDFS warehouse directory.\n",
    "* We can locate and validate the data by performing some HDFS commands in hive shell as below commands"
   ]
  },
  {
   "cell_type": "raw",
   "metadata": {},
   "source": [
    "dfs -ls /apps/hive/warehouse/bootcampdemo_retail_db_txt.db"
   ]
  },
  {
   "cell_type": "raw",
   "metadata": {},
   "source": [
    "dfs -ls /apps/hive/warehouse/bootcampdemo_retail_db_txt.db/demo"
   ]
  },
  {
   "cell_type": "raw",
   "metadata": {},
   "source": [
    "dfs -cat/apps/hive/warehouse/bootcampdemo_retail_db_txt.db/demo/00000_0"
   ]
  },
  {
   "cell_type": "markdown",
   "metadata": {},
   "source": [
    "### Hive Metastore\n",
    "Hive Metastore is used to store the metadata of Hive tables created as part of Hive Databases.\n",
    "* We can use any standard RDBMS to configure Hive Metastore. In our case we are using MySQL.\n",
    "* Hive Metastore is typically configured by administrators as part of setting up of cluster.\n",
    "* Developers will not have access to Hive Metastore.\n",
    "* Let us see quick demo how Hive Metastore data model look like by logging into the MySQL database and running few commands and queries.\n",
    "\n",
    "### Create Table as Select – CTAS\n",
    "Hive supports CTAS to create tables out of results of a query.\n",
    "* Syntax is similar to standard CREATE TABLE command except that we also have select query to process data in other tables.\n",
    "* It issues Map Reduce job to process data and load data into the new table.\n",
    "* Column Names and Data Types are inherited from the fields or expressions specified in select clause of the query.\n"
   ]
  }
 ],
 "metadata": {
  "kernelspec": {
   "display_name": "Apache Toree - SQL",
   "language": "sql",
   "name": "apache_toree_sql"
  },
  "language_info": {
   "codemirror_mode": "text/x-sql",
   "file_extension": ".sql",
   "mimetype": "text/x-sql",
   "name": "sql",
   "pygments_lexer": "sql",
   "version": "2.2.2"
  }
 },
 "nbformat": 4,
 "nbformat_minor": 4
}
