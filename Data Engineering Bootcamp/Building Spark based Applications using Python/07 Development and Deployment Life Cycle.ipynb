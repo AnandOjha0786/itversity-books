{
 "cells": [
  {
   "cell_type": "markdown",
   "metadata": {},
   "source": [
    "# Development and Deployment Life Cycle\n",
    "\n",
    "Now let us understand development life cycle using PyCharm and deployment lifecycle. As part of the deployment life cycle, we will see how to control runtime behavior.\n",
    "\n",
    "## Development Life Cycle\n",
    "\n",
    "Let us check the development life cycle of Spark applications using PyCharm with word count and daily revenue.\n",
    "\n",
    "* Create new project\n",
    "* Make sure PyCharm is configured for Pyspark Python\n",
    "* Externalize Properties using ConfigParser\n",
    "* Create Spark Configuration object and Spark Context object\n",
    "* Develop logic to read, process and save the output back\n",
    "* Externalize execution mode, input base directory and output path\n",
    "* Validate locally using pycharm and probably spark-submit in local mode"
   ]
  },
  {
   "cell_type": "markdown",
   "metadata": {},
   "source": [
    "## Deployment Life Cycle\n",
    "\n",
    "Once the code is developed, we can deploy it on the gateway node on the cluster.\n",
    "\n",
    "* Ship the folder which contain all python files to gateway node\n",
    "* Run using spark-submit command\n",
    "* Review capacity of the cluster.\n",
    " * Node Manager capacity\n",
    " * Default YARN Container -> Spark Executor configuration\n",
    " * Default Spark Executor configuration – 1 GB, 1 Core\n",
    "* Here are the different modes in which we will be running and understand how it impact the execution (demo is done using word count).\n",
    " * Disable dynamic allocation and run with defaults (num-executors, executor-memory and executor-cores)\n",
    " * Understanding executor overhead and impact  on executor-memory\n",
    " * Increasing num-executors, executor-memory and executor-cores\n",
    " * Dynamic Allocation\n",
    "\n",
    "GitHub repository for the code will be shared after session is done."
   ]
  }
 ],
 "metadata": {
  "kernelspec": {
   "display_name": "Pyspark 2",
   "language": "python",
   "name": "pyspark2"
  },
  "language_info": {
   "codemirror_mode": {
    "name": "ipython",
    "version": 3
   },
   "file_extension": ".py",
   "mimetype": "text/x-python",
   "name": "python",
   "nbconvert_exporter": "python",
   "pygments_lexer": "ipython3",
   "version": "3.6.8"
  }
 },
 "nbformat": 4,
 "nbformat_minor": 4
}
