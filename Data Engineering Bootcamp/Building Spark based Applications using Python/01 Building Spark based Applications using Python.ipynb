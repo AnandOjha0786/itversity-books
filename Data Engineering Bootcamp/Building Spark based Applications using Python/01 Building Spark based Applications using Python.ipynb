{
 "cells": [
  {
   "cell_type": "markdown",
   "metadata": {},
   "source": [
    "  # Building Spark based Applications using Python\n",
    "\n",
    "\n",
    "As part of this lesson we will see how to build scaleable applications using Spark APIs with Python as programming language. We will start with quick review of Python and then we will get into details.\n",
    "\n",
    "* Quick revision of Python\n",
    "* Spark Architecture and Execution Modes\n",
    "* RDD, DAG and Lazy Evaluation\n",
    "* Basic Transformations and Actions\n",
    "* Advanced Transformations\n",
    "* Execution Life Cycle\n",
    "* Accumulators and Broadcast Variables\n",
    "* Creating Data Frames and Pre Defined Functions\n",
    "* Data Frame Operations – Basic Transformations such as filtering, aggregations, joins etc\n",
    "* Data Frame Operations – Analytics Functions or Windowing Functions\n",
    "* Spark SQL – Basic Transformations such as filtering, aggregations, joins etc\n",
    "* Spark SQL – Analytics Functions or Windowing Functions\n",
    "* Different file formats – text, json, orc, parquet, avrò etc\n",
    "* Reading text data with custom delimiters\n",
    "* Compression concepts and algorithms"
   ]
  }
 ],
 "metadata": {
  "kernelspec": {
   "display_name": "Pyspark 2",
   "language": "python",
   "name": "pyspark2"
  },
  "language_info": {
   "codemirror_mode": {
    "name": "ipython",
    "version": 3
   },
   "file_extension": ".py",
   "mimetype": "text/x-python",
   "name": "python",
   "nbconvert_exporter": "python",
   "pygments_lexer": "ipython3",
   "version": "3.6.8"
  }
 },
 "nbformat": 4,
 "nbformat_minor": 4
}
