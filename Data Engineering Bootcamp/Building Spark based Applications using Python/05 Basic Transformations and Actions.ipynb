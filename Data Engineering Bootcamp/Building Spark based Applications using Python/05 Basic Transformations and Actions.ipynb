{
 "cells": [
  {
   "cell_type": "markdown",
   "metadata": {},
   "source": [
    "# Basic Transformations and Actions\n",
    "\n",
    "Let us look into how we can perform basic transformations such as row level transformations, aggregations, joins, sorting etc as part of this topic. We will also see few details related to mapPartitions.\n",
    "\n",
    "* Overview of data processing life cycle – row level transformations -> shuffling -> joins/aggregations\n",
    "* Row level transformations – map, flatMap\n",
    "* Filtering – filter\n",
    "* Aggregations – reduceByKey and aggregateByKey\n",
    "* Joins – performing inner joins and outer joins\n",
    "* Sorting data"
   ]
  },
  {
   "cell_type": "markdown",
   "metadata": {},
   "source": [
    "# Sum Of Even Numbers\n",
    "\n",
    "Let us understand how we can convert a collection to RDD and perform RDD operations to process. As par of Spark Context we have an API called parallelize, which can be used to convert typical list into RDD. Similarly we can use collect API on RDD to convert into list.\n",
    "\n",
    "* Create list from 1 to 100000 using range – <mark>l = list(range(1, 100001))</mark>\n",
    "* Convert into RDD – <mark>lRDD = sc.parallelize(l)/<mark>\n",
    "* Filter for even numbers – <mark>lEven = lRDD.filter(lambda n: n % 2 == 0)</mark>\n",
    "* Get sum of the even numbers – <mark>sumEven = lEven.reduce(lambda x, y: x + y)</mark>"
   ]
  },
  {
   "cell_type": "markdown",
   "metadata": {},
   "source": [
    "# Word Count\n",
    "\n",
    "Let us develop word count program using pyspark. As part of this example we will see flatMap, map and reduce.\n",
    "\n",
    "* flatMap – convert a single record into multiple records based up on the logic. Number of records in output RDD will be greater than number of records in input RDD.\n",
    "* map – apply the transformation on individual records which will result in changed value. Number of records in both input RDD and output RDD will be same.\n",
    "* reduce – Generate aggregated result by processing data in input RDD. Typically it returns one value irrespective of number of records in input RDD. reduce is action and hence it will trigger execution of the DAG in the form of one or more jobs.\n",
    "* Problem Statement – For unique word in input file we need to get how many times it is repeated. Input file contain bunch of lines with words.\n",
    "* Design\n",
    " * Break each line into words (using flatMap). If you want to convert each record into multiple records based on logic we need to use flatMap API. flatMap take lambda function as argument for which we need to pass logic to break down input record into array and flatMap inbuilt logic will return each element in array as record.\n",
    " * As we broke each line into word, we need to convert them into tuples (using map). It will facilitate us to use by key operations such as reduceByKey.\n",
    " * Paired RDD (output of map function) can now be passed to reduceByKey and get count for each word.\n",
    " * Logic passed to as part of reduceByKey execute both on the map output as well as reduce input."
   ]
  },
  {
   "cell_type": "code",
   "execution_count": 2,
   "metadata": {},
   "outputs": [],
   "source": [
    "from pyspark import SparkConf\n",
    "from pyspark.context import SparkContext\n",
    "\n",
    "sc = SparkContext.getOrCreate(SparkConf().setMaster(\"yarn\"))\n",
    "lines = sc.textFile(\"/public/randomtextwriter/part-m-00000\")\n",
    "words = lines.flatMap(lambda line: line.split(\" \"))\n",
    "wordTuples = words.map(lambda word: (word, 1))\n",
    "wordCount = wordTuples.reduceByKey(lambda x, y: x + y)\n",
    "wordCount.saveAsTextFile(\"/user/training/bootcamp/pyspark-2/wordcount\")"
   ]
  },
  {
   "cell_type": "markdown",
   "metadata": {},
   "source": [
    "# Shuffling\n",
    "\n",
    "Let us understand the concept of Shuffling.\n",
    "\n",
    "* As we have seen a Spark job will run in multiple stages\n",
    "* Stages will run in linear fashion. For example Stage 1 will run only after Stage 0 is completely done\n",
    "* In each stage data will be processed using tasks\n",
    "* Output of stage 0 tasks will be passed as input to stage 1 tasks\n",
    "* When the output of tasks in earlier stages is passed as input to tasks in later stages, following happen\n",
    " * Data will be partitioned by using hash mod algorithm\n",
    " * Data related to keys will be grouped together\n",
    " * This data will be cached in memory and it might be spilled to disk as well.\n",
    " * Data related to a particular key from all tasks of earlier stages will be passed to one task in later stages.\n",
    " * This entire process is called shuffling\n",
    " * When certain APIs such as reduceByKey/aggregateByKey is used, it will also perform some thing called combining which can improve the performance significantly.\n",
    " * APIs such as join, reduceByKey, aggregateByKey, groupByKey etc result in shuffling.\n",
    "* Number of tasks in subsequent stages are determined by one of these\n",
    " * Number of partitions from earlier stage\n",
    " * numTasks or numPartitions argument as part of APIs that result in shuffling\n",
    " * repartition or coalesce (covered as part of next topic)\n",
    "* Accurate number of tasks can only be determined after understanding data behavior in detail. Here is some of the criteria\n",
    " * Ratio between input data vs. output (in case of filtering and aggregations output size will be considerably lower)\n",
    " * Keys on which data is shuffled (sparse keys vs. dense keys)\n",
    " * Joins and potential cartesian products\n",
    " * and more\n",
    "\n",
    "Here are the examples of groupByKey, reduceByKey and aggregateByKey to understand the differences.\n",
    "\n"
   ]
  },
  {
   "cell_type": "code",
   "execution_count": 3,
   "metadata": {},
   "outputs": [
    {
     "name": "stdout",
     "output_type": "stream",
     "text": [
      "(35211, 239.96)\n",
      "(35214, 1319.8500000000001)\n",
      "(35220, 35.98)\n",
      "(35223, 374.92)\n",
      "(35226, 329.99)\n",
      "(35232, 100.0)\n",
      "(35235, 299.97)\n",
      "(35238, 999.77)\n",
      "(35241, 369.95000000000005)\n",
      "(35247, 399.96)\n"
     ]
    }
   ],
   "source": [
    "orderItems = sc.textFile(\"/public/retail_db/order_items\")\n",
    "orderItemsMap = orderItems.map(lambda oi: (int(oi.split(\",\")[1]), float(oi.split(\",\")[4])))\n",
    "orderItemsGBK = orderItemsMap.groupByKey(3)\n",
    "orderItemsGBKMap = orderItemsGBK.map(lambda oi: (oi[0], sum(oi[1])))\n",
    "for i in orderItemsGBKMap.take(10): print(i)       "
   ]
  },
  {
   "cell_type": "code",
   "execution_count": 4,
   "metadata": {},
   "outputs": [
    {
     "name": "stdout",
     "output_type": "stream",
     "text": [
      "(35211, 239.96)\n",
      "(35214, 1319.8500000000001)\n",
      "(35220, 35.98)\n",
      "(35223, 374.92)\n",
      "(35226, 329.99)\n",
      "(35232, 100.0)\n",
      "(35235, 299.97)\n",
      "(35238, 999.77)\n",
      "(35241, 369.95000000000005)\n",
      "(35247, 399.96)\n"
     ]
    }
   ],
   "source": [
    "orderItems = sc.textFile(\"/public/retail_db/order_items\")\n",
    "orderItemsMap = orderItems.map(lambda oi: (int(oi.split(\",\")[1]), float(oi.split(\",\")[4])))\n",
    "orderItemsRBK = orderItemsMap.reduceByKey(lambda x, y: x + y, 3)\n",
    "for i in orderItemsRBK.take(10): print(i) "
   ]
  },
  {
   "cell_type": "code",
   "execution_count": 5,
   "metadata": {},
   "outputs": [
    {
     "name": "stdout",
     "output_type": "stream",
     "text": [
      "(35211, (239.96, 1))\n",
      "(35214, (1319.8500000000001, 5))\n",
      "(35220, (35.98, 1))\n",
      "(35223, (374.92, 3))\n",
      "(35226, (329.99, 2))\n",
      "(35232, (100.0, 1))\n",
      "(35235, (299.97, 1))\n",
      "(35238, (999.77, 5))\n",
      "(35241, (369.95000000000005, 2))\n",
      "(35247, (399.96, 1))\n"
     ]
    }
   ],
   "source": [
    "orderItems = sc.textFile(\"/public/retail_db/order_items\")\n",
    "orderItemsMap = orderItems.map(lambda oi: (int(oi.split(\",\")[1]), float(oi.split(\",\")[4])))\n",
    "orderItemsABK = orderItemsMap.aggregateByKey((0.0, 0), \n",
    "                                             lambda x, y: (x[0] + y, x[1] + 1),\n",
    "                                             lambda x, y: (x[0] + y[0], x[1] + y[1]),\n",
    "                                             3\n",
    "                                            )\n",
    "for i in orderItemsABK.take(10): print(i)    "
   ]
  },
  {
   "cell_type": "markdown",
   "metadata": {},
   "source": [
    "# Get Daily Revenue\n",
    "\n",
    "Let us develop revenue for each day considering completed orders. As part of this example we will explore distinct, filter, map, join, reduceByKey. We will also understand shuffling process.\n",
    "\n",
    "\n",
    "* Let us read orders data <mark>orders = sc.textFile(\"/public/retail_db/orders\")</mark>\n",
    "* Let us read order items data  <mark>orderItems = sc.textFile(\"/public/retail_db/order_items\")</mark>\n",
    "* As part of data analysis we will see what all different statuses we have in orders. For that we need to read orders data into RDD, extract order_status and apply distinct on top of it <mark>orders.split(\",\")[3].distinct</mark>\n",
    "* Once we understand the data, we will see how we can filter for completed orders using filter <mark>ordersFiltered = orders.filter(lambda o: o.split(\",\")[3] in (\"COMPLETE\", \"CLOSED\"))</mark>\n",
    "* filter – It creates new RDD for the records which satisfies the criteria passed as argument\n",
    "* join – It can be used to join multiple data sets on common key. It can be performed on the RDDs where each element in the form of (k, v) and (k, w). It result new RDD where each element is in the form of (k, (v, w)).\n",
    "* Typically we use map to transform both our input data sets into key value pairs.\n",
    " * orders data – <mark>ordersMap = ordersFiltered.map(lambda o: (int(o.split(\",\")[0]), o.split(\",\")[1]))</mark>\n",
    " * order items data – <mark>orderItemsMap = orderItems.map(lambda oi: (int(oi.split(\",\")[1]), float(oi.split(\",\")[4])))</mark>\n",
    " * Once data sets are in required format, joining is very straight forward\n",
    " * Key in both the data sets should have same business context (typically primary key in one table and foreign key in another table)\n",
    " * joining data – <mark>ordersJoin = ordersMap.join(orderItemsMap)</mark>\n",
    "* outer join – APIs also support outer joins (leftOuterJoin, rightOuterJoin and fullOuterJoin). left and right are functionally and purely based on the position of the parent data set (in our case it is orders which drives the outer join)\n",
    "* Get orders with no corresponding order items – <mark>ordersMap.leftOuterJoin(orderItemsMap).filter(lambda o: o[1][1] == None)</mark>\n",
    "* ordersJoin have the data which contain (order_id, (order_date, order_item_subtotal))\n",
    "* We don’t need order_id any more and hence we can apply map and eliminate order_id\n",
    "* Discarding order id from join results – <mark>ordersJoinMap = ordersJoin.map(lambda o: o[1])</mark>\n",
    "* As ordersJoinMap have date as key and item subtotal as value, we can use reduceByKey to get daily revenue. Even though we can achieve this using aggregateByKey and groupByKey, reduceByKey is more appropriate way. Here is the criteria\n",
    " * For aggregations we should prefer using groupByKey as there is no combiner involved\n",
    " * Combiner is the process of computing intermediate values\n",
    " * When logic to compute intermediate values and logic to compute final values are same, then we should use reduceByKey (eg: sum)\n",
    " * When logic to compute intermediate values and logic to compute final values are similar but not same, then we should use aggregateByKey\n",
    " * If you look at syntax, reduceByKey take only one argument where as aggregateByKey take 3 arguments (2 arguments are lambda functions – one to compute intermediate values and the other to compute final values)\n",
    " * reduceByKey take only one lambda function as argument.\n",
    " * 3rd argument in aggregate by key is for initialization. Type of that argument is determined by the output value type.\n",
    " * For our example (sum) – we need to use reduceByKey\n",
    "* daily revenue – <mark>dailyRevenue = ordersJoinMap.reduceByKey(lambda x, y: x + y)</mark>\n",
    "* Now we can sort the data, let us sort in ascending order by date – <mark>dailyRevenueSorted = dailyRevenue.sortByKey()</mark>\n",
    "* We can perform action such as saveAsTextFile to save the output. Typically we transform our data to the way it is supposed to be saved (e. g: Delimiters) – <mark>dailyRevenueSortedMap = dailyRevenueSorted.map(lambda oi: oi[0] + \",\" + str(oi[1]))</mark>\n",
    "* Saving output – <mark>dailyRevenueSorted.saveAsTextFile(\"/user/training/bootcamp/pyspark/daily_revenue\")</mark>\n"
   ]
  },
  {
   "cell_type": "code",
   "execution_count": 7,
   "metadata": {},
   "outputs": [],
   "source": [
    "orders = sc.textFile(\"/public/retail_db/orders\")\n",
    "orderItems = sc.textFile(\"/public/retail_db/order_items\")\n",
    "ordersFiltered = orders.filter(lambda o: o.split(\",\")[3] in (\"COMPLETE\", \"CLOSED\"))\n",
    "ordersFilteredMap = ordersFiltered.map(lambda o: (int(o.split(\",\")[0]), o.split(\",\")[1]))\n",
    "orderItemsMap = orderItems.map(lambda oi: (int(oi.split(\",\")[1]), float(oi.split(\",\")[4])))\n",
    "ordersJoin = ordersFilteredMap.join(orderItemsMap)\n",
    "ordersJoinMap = ordersJoin.map(lambda o: o[1])\n",
    "dailyRevenue = ordersJoinMap.reduceByKey(lambda x, y: x + y)\n",
    "dailyRevenueSorted = dailyRevenue.sortByKey()\n",
    "dailyRevenueSortedMap = dailyRevenueSorted.map(lambda oi: oi[0] + \",\" + str(oi[1]))\n",
    "dailyRevenueSortedMap.saveAsTextFile(\"/user/training/bootcamp/pyspark-3/daily_revenue\")"
   ]
  },
  {
   "cell_type": "code",
   "execution_count": null,
   "metadata": {},
   "outputs": [],
   "source": []
  }
 ],
 "metadata": {
  "kernelspec": {
   "display_name": "Pyspark 2",
   "language": "python",
   "name": "pyspark2"
  },
  "language_info": {
   "codemirror_mode": {
    "name": "ipython",
    "version": 3
   },
   "file_extension": ".py",
   "mimetype": "text/x-python",
   "name": "python",
   "nbconvert_exporter": "python",
   "pygments_lexer": "ipython3",
   "version": "3.6.8"
  }
 },
 "nbformat": 4,
 "nbformat_minor": 4
}
