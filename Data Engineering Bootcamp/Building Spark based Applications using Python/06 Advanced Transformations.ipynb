{
 "cells": [
  {
   "cell_type": "markdown",
   "metadata": {},
   "source": [
    "# Advanced Transformations\n",
    "\n",
    "As we understand basic transformations such as map, flatMap, reduce etc, now let us look at few advanced operations.\n",
    "\n",
    "* mapPartitions\n",
    "* ranking using groupByKey"
   ]
  },
  {
   "cell_type": "markdown",
   "metadata": {},
   "source": [
    "## mapPartitions\n",
    "\n",
    "APIs such as map, filter, flatMap work on individual records. We can implement any of this functionality using mapPartitions, but the difference is in its execution.\n",
    "\n",
    "* For map, filter, flatMap – number of executions of lambda function is equal to number of records\n",
    "* For mapPartitions – number of executions of lambda function is equal to number of partitions\n",
    "* As part of the lambda function in mapPartitions\n",
    " * Process data as collection\n",
    " * Apply Python map or filter or flatten\n",
    " * Return a collection\n",
    "* The elements from the collection returned from lambda function will be added to RDD\n",
    "* Use cases where mapPartitions can perform better – Looking up into a database. Instead of creating connection for each record, we can establish connection once per for each partition (if looking up into database is required as part of data processing)\n",
    "* Here is the example of getting word count using mapPartitions"
   ]
  },
  {
   "cell_type": "code",
   "execution_count": 1,
   "metadata": {},
   "outputs": [
    {
     "name": "stdout",
     "output_type": "stream",
     "text": [
      "('�\\x01�spermaphyte', 216)\n",
      "('immatchable', 97732)\n",
      "('Effie', 97648)\n",
      "('besagne', 97540)\n",
      "('cretaceous', 97752)\n",
      "('infestation', 97252)\n",
      "('ungouged', 97981)\n",
      "('jharal', 98099)\n",
      "('piquantness', 97313)\n",
      "('carposporangial', 97277)\n"
     ]
    }
   ],
   "source": [
    "from pyspark import SparkConf\n",
    "from pyspark.context import SparkContext\n",
    "\n",
    "\n",
    "sc = SparkContext.getOrCreate(SparkConf().setMaster(\"yarn\"))\n",
    "lines = sc.textFile(\"/public/randomtextwriter/part-m-00000\")\n",
    "def getWordTuples(i):\n",
    "  import itertools as it\n",
    "  wordTuples = map(lambda s: (s, 1), it.chain.from_iterable(map(lambda s: s.split(\" \"), i)))\n",
    "  return wordTuples\n",
    "\n",
    "wordTuples = lines.mapPartitions(lambda i: getWordTuples(i))\n",
    "for i in wordTuples.reduceByKey(lambda x, y: x + y).take(10):\n",
    "  print(i)"
   ]
  },
  {
   "cell_type": "markdown",
   "metadata": {},
   "source": [
    "## ranking using groupByKey\n",
    "\n",
    "groupByKey is a very powerful API which groups the values based on the key. It can be used to solve problems such as ranking.\n",
    "\n",
    "* Task 1: Get top N products by price in each category\n",
    " * Let us read products data into RDD\n",
    " * Convert the data to (k, v) using product category id as key and the entire product record as value\n",
    " * Use groupByKey\n",
    " * Use first and get first record and read the second element to regular python collection variable (productsPerCategory)\n",
    " * Develop function to get top N products by price in that list\n",
    " * Validate the function using productsPerCategory\n",
    " * Invoke the function on output of groupByKey as part of flatMap"
   ]
  },
  {
   "cell_type": "code",
   "execution_count": 2,
   "metadata": {},
   "outputs": [
    {
     "name": "stdout",
     "output_type": "stream",
     "text": [
      "694,32,Callaway Women's Solaire Gems 20-Piece Comple,,999.99,http://images.acmesports.sports/Callaway+Women%27s+Solaire+Gems+20-Piece+Complete+Set+-...\n",
      "695,32,Callaway Women's Solaire Gems 20-Piece Comple,,999.99,http://images.acmesports.sports/Callaway+Women%27s+Solaire+Gems+20-Piece+Complete+Set+-...\n",
      "698,32,Cleveland Women's 588 Altitude Hybrid/Irons -,,699.99,http://images.acmesports.sports/Cleveland+Women%27s+588+Altitude+Hybrid%2FIrons+-+%28Graphite%29...\n",
      "743,34,Ogio Race Golf Shoes,,169.99,http://images.acmesports.sports/Ogio+Race+Golf+Shoes\n",
      "744,34,Ogio Race Golf Shoes,,169.99,http://images.acmesports.sports/Ogio+Race+Golf+Shoes\n",
      "745,34,Ogio City Spiked Golf Shoes,,149.99,http://images.acmesports.sports/Ogio+City+Spiked+Golf+Shoes\n",
      "791,36,Hirzl Women's Trust Feel Golf Glove,,24.99,http://images.acmesports.sports/Hirzl+Women%27s+Trust+Feel+Golf+Glove\n",
      "794,36,Hirzl Women's Trust Control Golf Glove,,24.99,http://images.acmesports.sports/Hirzl+Women%27s+Trust+Control+Golf+Glove\n",
      "806,36,Glove It Women's Violet Bling Golf Glove,,24.99,http://images.acmesports.sports/Glove+It+Women%27s+Violet+Bling+Golf+Glove\n",
      "860,38,Bushnell Pro X7 Jolt Slope Rangefinder,,599.99,http://images.acmesports.sports/Bushnell+Pro+X7+Jolt+Slope+Rangefinder\n"
     ]
    }
   ],
   "source": [
    "products = sc.textFile(\"/public/retail_db/products\")\n",
    "productsFiltered = products.filter(lambda p: p.split(\",\")[4] != \"\")\n",
    "productsMap = productsFiltered.map(lambda p: (int(p.split(\",\")[1]), p))\n",
    "productsGBCategory = productsMap.groupByKey()\n",
    "\n",
    "# p = list(productsGBCategory.first()[1])\n",
    "\n",
    "def getTopNProducts(products, topN):\n",
    "  return sorted(products, key=lambda k: float(k.split(\",\")[4]), reverse=True)[:topN]\n",
    "    \n",
    "# getTopNProducts(p, 3)\n",
    "\n",
    "topNProductsByCategory = productsGBCategory.flatMap(lambda p: getTopNProducts(list(p[1]), 3))\n",
    "for i in topNProductsByCategory.take(10):\n",
    "  print(i)"
   ]
  },
  {
   "cell_type": "markdown",
   "metadata": {},
   "source": [
    "* Task 2: Get top N Priced products in each category\n",
    " * Let us read products data into RDD\n",
    " * Convert the data to (k, v) using product category id as key and the entire product record as value\n",
    " * Use groupByKey\n",
    " * Use first and get first record and read the second element to regular python collection variable (productsPerCategory)\n",
    " * Develop function to get top N priced products in that list (simulating dense rank)\n",
    " * Validate the function using productsPerCategory\n",
    " * Invoke the function on output of groupByKey as part of flatMap"
   ]
  },
  {
   "cell_type": "code",
   "execution_count": 3,
   "metadata": {},
   "outputs": [
    {
     "name": "stdout",
     "output_type": "stream",
     "text": [
      "694,32,Callaway Women's Solaire Gems 20-Piece Comple,,999.99,http://images.acmesports.sports/Callaway+Women%27s+Solaire+Gems+20-Piece+Complete+Set+-...\n",
      "695,32,Callaway Women's Solaire Gems 20-Piece Comple,,999.99,http://images.acmesports.sports/Callaway+Women%27s+Solaire+Gems+20-Piece+Complete+Set+-...\n",
      "698,32,Cleveland Women's 588 Altitude Hybrid/Irons -,,699.99,http://images.acmesports.sports/Cleveland+Women%27s+588+Altitude+Hybrid%2FIrons+-+%28Graphite%29...\n",
      "697,32,Tour Edge Women's Moda Silk 18-Piece Complete,,599.99,http://images.acmesports.sports/Tour+Edge+Women%27s+Moda+Silk+18-Piece+Complete+Set+-+Pink...\n",
      "699,32,Tour Edge Women's Moda Silk 18-Piece Complete,,599.99,http://images.acmesports.sports/Tour+Edge+Women%27s+Moda+Silk+18-Piece+Complete+Set+%E2%80%93...\n",
      "743,34,Ogio Race Golf Shoes,,169.99,http://images.acmesports.sports/Ogio+Race+Golf+Shoes\n",
      "744,34,Ogio Race Golf Shoes,,169.99,http://images.acmesports.sports/Ogio+Race+Golf+Shoes\n",
      "745,34,Ogio City Spiked Golf Shoes,,149.99,http://images.acmesports.sports/Ogio+City+Spiked+Golf+Shoes\n",
      "746,34,Ogio City Spiked Golf Shoes,,149.99,http://images.acmesports.sports/Ogio+City+Spiked+Golf+Shoes\n",
      "747,34,Ogio City Spiked Golf Shoes,,149.99,http://images.acmesports.sports/Ogio+City+Spiked+Golf+Shoes\n"
     ]
    }
   ],
   "source": [
    "products = sc.textFile(\"/public/retail_db/products\")\n",
    "productsFiltered = products.filter(lambda p: p.split(\",\")[4] != \"\")\n",
    "productsMap = productsFiltered.map(lambda p: (int(p.split(\",\")[1]), p))\n",
    "productsGBCategory = productsMap.groupByKey()\n",
    "\n",
    "# p = list(productsGBCategory.first()[1])\n",
    "\n",
    "def getTopNPricedProducts(products, topN):\n",
    "  import itertools as it\n",
    "  productPrices = sorted(set(map(lambda p: float(p.split(\",\")[4]), products)), reverse=True)[:topN]\n",
    "  productsSorted = sorted(products, key=lambda k: float(k.split(\",\")[4]), reverse=True)\n",
    "  return it.takewhile(lambda product: float(product.split(\",\")[4]) in productPrices, productsSorted)\n",
    "    \n",
    "# getTopNProducts(p, 3)\n",
    "\n",
    "topNPricedProductsByCategory = productsGBCategory.flatMap(lambda p: getTopNPricedProducts(list(p[1]), 3))\n",
    "for i in topNPricedProductsByCategory.take(10):\n",
    "  print(i)"
   ]
  },
  {
   "cell_type": "code",
   "execution_count": null,
   "metadata": {},
   "outputs": [],
   "source": []
  }
 ],
 "metadata": {
  "kernelspec": {
   "display_name": "Pyspark 2",
   "language": "python",
   "name": "pyspark2"
  },
  "language_info": {
   "codemirror_mode": {
    "name": "ipython",
    "version": 3
   },
   "file_extension": ".py",
   "mimetype": "text/x-python",
   "name": "python",
   "nbconvert_exporter": "python",
   "pygments_lexer": "ipython3",
   "version": "3.6.8"
  }
 },
 "nbformat": 4,
 "nbformat_minor": 4
}
