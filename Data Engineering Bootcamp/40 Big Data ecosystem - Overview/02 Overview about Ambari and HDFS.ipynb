{
 "cells": [
  {
   "cell_type": "markdown",
   "metadata": {},
   "source": [
    "# Overview about Ambari and HDFS"
   ]
  },
  {
   "cell_type": "markdown",
   "metadata": {},
   "source": [
    "As part of this session we have understood\n",
    "\n",
    "* Logging into Ambari\n",
    "* Ambari Overview\n",
    "* Ambari Architecture\n",
    "* Categories of Hosts\n",
    "* HDFS Overview\n",
    "* opying Files to HDFS\n",
    "* Customizing Properties\n",
    "* Getting Metadata Information\n",
    "\n",
    "\n",
    "## Logging into Ambari and Overview\n",
    "\n",
    "* Sign in on Ambari, which is a cluster management tool.It is provided by Hortonworks. To get the details at hardware level go to hosts tab and to get the details at software level ,go to services tab.Services are softwares deployed on the cluster.It can also show trends in real-time.\n",
    "\n",
    "## Ambari Architecture\n",
    "\n",
    "* It follows Agent and server architecture.There is a centralised server such as Ambari server and it uses a centralised database.Someone has to give information on each node in the cluster to the server.\n",
    "* Check for services running on Ambari-\n",
    "<mark>ps -ef|grep -i ambari</mark>\n",
    "\n",
    "* Ambari agent and server can be seen running there on the host.Agent will capture certain metrics for every service deployed (how much CPU,memory or HDFS etc.)and pass information to server and it will store it into database and give information in form of graph and charts.\n",
    "* In an Ambari cluster of say 1000 nodes, most of the nodes run agents and few will run server.So, in a typical cluster we have master nodes based on the number of master services we need to run, worker nodes and gateway nodes which helps us to connect with cluster.Gateway nodes deploy the jobs in production environment.\n",
    "* One of the services running on Ambari is HDFS Services.\n",
    "\n",
    "## HDFS – Hadoop Distributed File System\n",
    "\n",
    "* File System determines the process of storing files in File System.\n",
    "* The hard disk is a collection of bits. Every operating system divides the hard disk into blocks and has some default block size. When we need to store some file on hard disk, it will be stored depending upon the block size. For example, if the default block size is 4 KB, to store 100KB file it stores sequentially taking 25 blocks.\n",
    "* Due to fragmentation, sometimes even if space is available it can’t store file.\n",
    "* In the case of Distributed file systems, we can store files non-sequentially and even on different nodes also.\n",
    "* Now, go to Gateway node, list the files present in the local file system using ls command. Go to data and crime directory and check the information about file size. It needs to store sequentially.\n",
    "* To interact with HDFS, we can use hadoop fs command.\n",
    "\n",
    "## Copying Files To HDFS\n",
    "\n",
    "* Copy file from the local file system to HDFS (use put command and give source file path and target file path) – <mark>hadoop fs -put /data/crime/csv/rows.csv/user/training/crime_data.csv</mark>\n",
    "\n",
    "The file will be copied on worker nodes as blocks.HDFS is a logical file system and you can’t find these files with these names. The file will be divided on the basis of block size.\n",
    "\n",
    "## Customizing Properties\n",
    "\n",
    "\n",
    "Let us see how we can override properties while copying data into HDFS.\n",
    "\n",
    "* Under the /etc directory, there will be one directory for each service. Hadoop is a combination of two services, HDFS, and YARN along with Map Reduce.\n",
    "* In /etc/hadoop/conf directory we have xml files like core-site.xml, hdfs-site.xml, mapred-site.xml, and yarn-site.xml\n",
    "* core-site.xml has properties for both the components of Hadoop.\n",
    "* hdfs-site.xml has properties like block size. By default, the block size is 128 MB.\n",
    "* To override block size while copying the file from the local file system to HDFS from 128MB to 64 MB\n",
    " * <mark>hadoop fs -Ddfs.blocksize=67108864 -put /data/crime/csv/rows.csv  /user/training/crime_data.csv</mark>\n",
    "* We can also override the replication factor.\n",
    " * <mark>hadoop fs -Ddfs.replication=2 -put /data/crime/csv/rows.csv  /user/training/crime_data.csv</mark>\n",
    " \n",
    "## Getting Metadata Information\n",
    "\n",
    "* The files are divided into the block and each block in turn divided into locations. So, using fsck command we can get the metadata information of a particular file-\n",
    " * <mark>hdfs fsck /data/crime/csv/rows.csv -files - blocks -locations</mark>"
   ]
  }
 ],
 "metadata": {
  "kernelspec": {
   "display_name": "Python 3",
   "language": "python",
   "name": "python3"
  },
  "language_info": {
   "codemirror_mode": {
    "name": "ipython",
    "version": 3
   },
   "file_extension": ".py",
   "mimetype": "text/x-python",
   "name": "python",
   "nbconvert_exporter": "python",
   "pygments_lexer": "ipython3",
   "version": "3.6.8"
  }
 },
 "nbformat": 4,
 "nbformat_minor": 4
}
