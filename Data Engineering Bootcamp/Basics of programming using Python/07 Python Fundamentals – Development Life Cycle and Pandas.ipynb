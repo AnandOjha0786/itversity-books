{
 "cells": [
  {
   "cell_type": "markdown",
   "metadata": {},
   "source": [
    "# Python Fundamentals – Development Life Cycle and Pandas"
   ]
  },
  {
   "cell_type": "markdown",
   "metadata": {},
   "source": [
    "As part of this topic we will be seeing\n",
    "\n",
    "* Development life cycle using Pycharm\n",
    "* Passing arguments to the program using Pycharm\n",
    "* Running Python program as application on servers\n",
    "* Reduce function to aggregate the data (from previous sessions)\n",
    "* Overview of Pandas\n",
    "* Creating Pandas DataFrame and using PandaSQL\n",
    "\n",
    "### Exercises\n",
    "Let us do exercise to understand collections API in detail\n",
    "\n",
    "* Data can be retrieved from this link in my git account\n",
    "* Data is tab separated\n",
    "* Structure of data\n",
    "    * state\n",
    "    * constituency\n",
    "    * candidate name\n",
    "    * sex\n",
    "    * age\n",
    "    * category\n",
    "    * party name\n",
    "    * party symbol\n",
    "    * general\n",
    "    * postal\n",
    "    * total\n",
    "    * percentage of total votes\n",
    "    * percentage of polled votes\n",
    "    * total number of voters\n",
    "* Each record contain above attributes. There will be separate record for each contestant from each constituency\n",
    "* You can save the contents of the file in github to any location on your PC and convert the contents of the file with this code. Make sure you use correct path for fileName"
   ]
  },
  {
   "cell_type": "code",
   "execution_count": null,
   "metadata": {},
   "outputs": [],
   "source": [
    "import pandas as pd\n",
    "\n",
    "results = pd.read_csv(\"/Users/itversity/Research/data/elections/ls2014.tsv\", delimiter=\"\\t\")"
   ]
  },
  {
   "cell_type": "markdown",
   "metadata": {},
   "source": [
    "### Task – Get number of “None of the above (NOTA)” for each state\n"
   ]
  },
  {
   "cell_type": "code",
   "execution_count": null,
   "metadata": {},
   "outputs": [],
   "source": [
    "import pandas as pd\n",
    "\n",
    "results = pd.read_csv(\"/Users/itversity/Research/data/elections/ls2014.tsv\", delimiter=\"\\t\")\n",
    "\n",
    "notas = results.loc[results['candidate_name'] == 'None of the Above']\n",
    "notaByState = notas.groupby(notas['state'])['total'].sum()"
   ]
  },
  {
   "cell_type": "markdown",
   "metadata": {},
   "source": [
    "### Exercises\n",
    "* Exercise 1 – Get all the distinct constituencies\n",
    "* Exercise 2 – Get number of constituencies by state sorted in descending order by number of constituencies\n",
    "* Exercise 3 – Get the number of seats for each party in each state – output should be state,bjp,inc,….\n",
    "* Exercise 4 – Get the percentage of polled votes of each party – formulla (number of votes per party across all the constituencies / total number of votes all the constituencies)\n",
    "* Exercise 5 – Get top 10 candidates by margin (number of votes for winner – number of votes for 1st runner)"
   ]
  }
 ],
 "metadata": {
  "kernelspec": {
   "display_name": "Python 3",
   "language": "python",
   "name": "python3"
  },
  "language_info": {
   "codemirror_mode": {
    "name": "ipython",
    "version": 3
   },
   "file_extension": ".py",
   "mimetype": "text/x-python",
   "name": "python",
   "nbconvert_exporter": "python",
   "pygments_lexer": "ipython3",
   "version": "3.6.8"
  }
 },
 "nbformat": 4,
 "nbformat_minor": 4
}
