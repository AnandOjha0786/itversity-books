{
 "cells": [
  {
   "cell_type": "markdown",
   "metadata": {},
   "source": [
    "# Overview of Spark using Scala and Python"
   ]
  },
  {
   "cell_type": "markdown",
   "metadata": {},
   "source": [
    "As part of this section we will see high-level details about spark, spark-shell, pyspark as well as spark-submit.\n",
    "\n",
    "* Spark Architecture – Overview\n",
    "* Spark Modules – Overview\n",
    "* Spark Execution Modes\n",
    "* spark-shell – Overview\n",
    "* pyspark – Overview"
   ]
  },
  {
   "cell_type": "markdown",
   "metadata": {},
   "source": [
    "**Spark Architecture – Overview**\n",
    "\n",
    "Spark is a distributed computing framework with rich APIs to process data at Scale.\n",
    "\n",
    "* It uses any file system that is provided as part of HDFS APIs\n",
    "    * HDFS\n",
    "    * AWS s3\n",
    "    * Azure Blob\n",
    "    * and more\n",
    "* For distributed computing, it uses frameworks such as YARN, Mesos etc\n",
    "* Let us go through the [official documentation](https://spark.apache.org/docs/latest/cluster-overview.html) and understand high level architecture of Spark cluster running under YARN or Mesos.\n",
    "    * Driver Program with Spark Context\n",
    "    * Executors on Worker Nodes (Node Managers in YARN)\n",
    "    * Cluster Manager (Resource Manager in YARN)"
   ]
  },
  {
   "cell_type": "markdown",
   "metadata": {},
   "source": [
    "### Spark Modules – Overview\n",
    "\n",
    "Spark provides rich APIs to process data at scale. However, the APIs are grouped into modules for different purposes.\n",
    "\n",
    "* Core APIs – RDDs as well as Transformations and Actions\n",
    "* Spark SQL and Data Frames\n",
    "* Machine Learning Pipelines\n",
    "* GraphX Pipelines\n",
    "\n",
    "### spark-shell – Overview\n",
    "\n",
    "### pyspark – Overview"
   ]
  }
 ],
 "metadata": {
  "kernelspec": {
   "display_name": "Python 3",
   "language": "python",
   "name": "python3"
  },
  "language_info": {
   "codemirror_mode": {
    "name": "ipython",
    "version": 3
   },
   "file_extension": ".py",
   "mimetype": "text/x-python",
   "name": "python",
   "nbconvert_exporter": "python",
   "pygments_lexer": "ipython3",
   "version": "3.6.8"
  }
 },
 "nbformat": 4,
 "nbformat_minor": 4
}
