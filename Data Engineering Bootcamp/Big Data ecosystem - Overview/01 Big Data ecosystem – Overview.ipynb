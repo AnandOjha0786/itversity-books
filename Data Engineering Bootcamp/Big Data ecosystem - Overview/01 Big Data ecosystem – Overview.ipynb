{
 "cells": [
  {
   "cell_type": "markdown",
   "metadata": {},
   "source": [
    "# Big Data ecosystem – Overview"
   ]
  },
  {
   "cell_type": "markdown",
   "metadata": {},
   "source": [
    "As part of this lesson, we will be primarily focusing on getting started with Hadoop and Spark.\n",
    "\n",
    "* Overview of Big Data cluster\n",
    "* HDFS – Hadoop Distributed File System\n",
    "* Detailed HDFS Commands (Self Paced)\n",
    "* YARN, Map Reduce and Spark Overview\n",
    "\n",
    "Map Reduce and Spark are two alternative Distributed Processing Frameworks. We will be covering Spark in detail."
   ]
  }
 ],
 "metadata": {
  "kernelspec": {
   "display_name": "Python 3",
   "language": "python",
   "name": "python3"
  },
  "language_info": {
   "codemirror_mode": {
    "name": "ipython",
    "version": 3
   },
   "file_extension": ".py",
   "mimetype": "text/x-python",
   "name": "python",
   "nbconvert_exporter": "python",
   "pygments_lexer": "ipython3",
   "version": "3.6.8"
  }
 },
 "nbformat": 4,
 "nbformat_minor": 4
}
