{
 "cells": [
  {
   "cell_type": "markdown",
   "metadata": {},
   "source": [
    "# Getting Started – Scala"
   ]
  },
  {
   "cell_type": "markdown",
   "metadata": {},
   "source": [
    "Brief History of Scala\n",
    "Let us understand the history of Scala and also few details about this programming language\n",
    "\n",
    "* Scala is JVM based programming language\n",
    "* JVM – Java Virtual Machine is the abstraction layer between programming language and underlying operating system\n",
    "* Scala programs will be compiled into Java byte code\n",
    "* Even though Scala programs compiles into Java byte code – syntactically it is very different from Java\n",
    "* Scala’s syntax follow Functional programming paradigm\n",
    "* Martin Odersky is the founder of the language\n",
    "* It is founded in Year 2001\n",
    "* Scala is open source and object oriented\n",
    "* Architecture of JVM based programming language"
   ]
  },
  {
   "cell_type": "markdown",
   "metadata": {},
   "source": [
    "![alt text](https://kaizen.itversity.com/wp-content/uploads/2018/04/01JVMProgrammingLanguages01-294x300.png)"
   ]
  },
  {
   "cell_type": "markdown",
   "metadata": {},
   "source": [
    "* List of JVM based programming languages"
   ]
  },
  {
   "cell_type": "markdown",
   "metadata": {},
   "source": [
    "![alt text](https://kaizen.itversity.com/wp-content/uploads/2018/04/02JVMProgrammingLanguages02.jpg)"
   ]
  },
  {
   "cell_type": "markdown",
   "metadata": {},
   "source": [
    "* Consolidated view of JVM based programming languages architecture"
   ]
  },
  {
   "cell_type": "markdown",
   "metadata": {},
   "source": [
    "![alt text](https://kaizen.itversity.com/wp-content/uploads/2018/04/03JVMProgrammingLanguages03-1024x540.png)"
   ]
  },
  {
   "cell_type": "markdown",
   "metadata": {},
   "source": [
    "### Scala REPL or CLI\n",
    "\n",
    "As part of this topic we will understand what REPL is\n",
    "\n",
    "* Make sure to set up Scala as per this blog post\n",
    "* REPL stands for Read-Evaluate-Print-Loop\n",
    "* It is also called as Command Line Interface\n",
    " * SQLPLUS\n",
    " * Python\n",
    " * and many more are traditional examples\n",
    "* It is interactive way of validating the code\n",
    "* Once you hit enter or control+D in :paste mode, the code will be\n",
    " * Read\n",
    " * Evaluated (Compiled and run)\n",
    " * Printed (output will be printed)\n",
    " * Looped (will wait for another code snippet)\n",
    "* <mark>:help</mark> – to get the help of REPL\n",
    "* <mark>:quit</mark> – to quit from REPL\n",
    "* <mark>:javap</mark> – to see metadata of the compiled classes\n",
    "* <mark>:paste</mark> – to come up with multi line code\n",
    "* Here are the list of commands available"
   ]
  },
  {
   "cell_type": "code",
   "execution_count": null,
   "metadata": {},
   "outputs": [],
   "source": []
  }
 ],
 "metadata": {
  "kernelspec": {
   "display_name": "Apache Toree - Scala",
   "language": "scala",
   "name": "apache_toree_scala"
  },
  "language_info": {
   "codemirror_mode": "text/x-scala",
   "file_extension": ".scala",
   "mimetype": "text/x-scala",
   "name": "scala",
   "pygments_lexer": "scala",
   "version": "2.11.12"
  }
 },
 "nbformat": 4,
 "nbformat_minor": 4
}
