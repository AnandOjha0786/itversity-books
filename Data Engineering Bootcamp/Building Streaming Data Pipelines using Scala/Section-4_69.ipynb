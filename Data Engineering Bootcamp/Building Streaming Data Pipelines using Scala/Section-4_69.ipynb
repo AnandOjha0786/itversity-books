{
 "cells": [
  {
   "cell_type": "markdown",
   "metadata": {},
   "source": [
    "# Solution – Ship and run it on big data cluster"
   ]
  },
  {
   "cell_type": "markdown",
   "metadata": {},
   "source": [
    "As part of this topic, we will see how to deploy jar file in the cluster\n",
    "\n",
    "### Copying the jar file into the cluster"
   ]
  },
  {
   "cell_type": "raw",
   "metadata": {},
   "source": [
    "scp ~/Research/code/scalademo/retail/target/scala-2.10/retail_2.10-1.0.jar \\\n",
    "dgadiraju@gw01.itversity.com:~"
   ]
  },
  {
   "cell_type": "markdown",
   "metadata": {},
   "source": [
    "### Running the jar file"
   ]
  },
  {
   "cell_type": "raw",
   "metadata": {},
   "source": [
    "spark-submit --class DailyRevenue C:\\apps\\home\\itversity\\Research\\code\\scalademo\\retail\\target\\scala-2.10\\retail_2.10-1.0.jar C:\\retail_db\\ C:\\retail_db\\products\\part-00000 C:\\retail_db\\daily_revenue local\n",
    "\n",
    "spark-submit --class DailyRevenue \\\n",
    " --master yarn \\\n",
    " --conf spark.ui.port=12567 \\\n",
    " /home/dgadiraju/retail_2.10-1.0.jar \\\n",
    " /public/retail_db/ /data/retail_db/products/part-00000 /user/dgadiraju/daily_revenue_txt_scala yarn-client"
   ]
  },
  {
   "cell_type": "markdown",
   "metadata": {},
   "source": [
    "In case of any questions/issues, please raise it in our [forums](http://discuss.itversity.com/c/programming-languages/scala) in relevant category.\n",
    "\n",
    "Check out for details of our courses [Course page](http://discuss.itversity.com/t/coupons-for-our-premium-courses-itversity/11078)"
   ]
  }
 ],
 "metadata": {
  "kernelspec": {
   "display_name": "Apache Toree - Scala",
   "language": "scala",
   "name": "apache_toree_scala"
  },
  "language_info": {
   "codemirror_mode": "text/x-scala",
   "file_extension": ".scala",
   "mimetype": "text/x-scala",
   "name": "scala",
   "pygments_lexer": "scala",
   "version": "2.11.12"
  }
 },
 "nbformat": 4,
 "nbformat_minor": 4
}
