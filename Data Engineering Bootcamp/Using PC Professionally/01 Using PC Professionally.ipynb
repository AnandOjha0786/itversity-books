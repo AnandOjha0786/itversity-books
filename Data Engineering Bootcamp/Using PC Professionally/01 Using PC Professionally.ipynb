{
 "cells": [
  {
   "cell_type": "markdown",
   "metadata": {},
   "source": [
    "# Using PC Professionally\n",
    "\n",
    "As IT professional or aspirant it is highly desired to use relevant tools. As part of this module we will be touching those important points which can improve your productivity.\n",
    "\n",
    "* This module is relatively small than others.\n",
    "* We will only list the tools and purpose of them.\n",
    "* We will also make recommendations as there are multiple tools to server each of the purpose.\n",
    "* Most of the enterprises will have licenses, you need to check with the team who is responsible in getting you computers and required softwares and get the tools installed.\n",
    "* Some of the tools might not be allowed in the organizations due to security or compliance reasons. Better to avoid them.\n",
    "* It is worth spending time to understand all the features of the tool in detail."
   ]
  }
 ],
 "metadata": {
  "kernelspec": {
   "display_name": "Pyspark 2",
   "language": "python",
   "name": "pyspark2"
  },
  "language_info": {
   "codemirror_mode": {
    "name": "ipython",
    "version": 3
   },
   "file_extension": ".py",
   "mimetype": "text/x-python",
   "name": "python",
   "nbconvert_exporter": "python",
   "pygments_lexer": "ipython3",
   "version": "3.6.8"
  }
 },
 "nbformat": 4,
 "nbformat_minor": 4
}
