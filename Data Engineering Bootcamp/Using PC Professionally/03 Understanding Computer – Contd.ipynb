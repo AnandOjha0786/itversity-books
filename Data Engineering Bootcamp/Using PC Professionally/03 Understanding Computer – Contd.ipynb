{
 "cells": [
  {
   "cell_type": "markdown",
   "metadata": {},
   "source": [
    "# Understanding Computer – Contd…\n",
    "\n",
    "Most of our applications need to be deployed on Linux and hence it is important to have some Linux based environment on our PC.\n",
    "\n",
    "* Installing the windows subsystem for Linux\n",
    "* Connectivity Tools\n",
    "* Code Versioning Tools\n",
    "* File Management Tools\n",
    "\n",
    "### Installing the windows subsystems for Linux\n",
    "\n",
    "* Open Windows Power Shell as an admin and run the below command. Enable-WindowsOptionalFeature -Online -FeatureName Microsoft-Windows-Subsystem-Linux\n",
    "* Now you can install the Linux distribution of your own choice. Preferred to use Ubuntu.\n",
    "* Click on Ubuntu distribution that launches the ubuntu terminal on windows.\n",
    "* If you are using lower versions rather than windows 10. You can use either Cygwin or Putty.\n",
    "* Windows Subsystem for Linux is much tightly integrated virtual machine with host. It gives more flexibility than VMware and VM VirtualBox.\n",
    "* Give the username and password for Ubuntu. Once the setup is done use the commands <mark>ls -ltr</mark> and  <mark>ls -altr</mark> to list out all the files.\n",
    "* The .profile and .bashrc files controls all the environment settings.\n",
    "* apt install is the command to download and install packages in ubuntu.\n",
    "* use apt help to get more detailed information about the command.\n",
    "* We can use ssh command to connect to remote server.\n",
    "* Ex: <mark>ssh username@hostname</mark> and give the password\n",
    "\n",
    "# Connectivity Tools\n",
    " We will be connecting to remote servers using\n",
    "\n",
    "* ssh tools\n",
    "* putty or Cygwin on Windows 8 or earlier. Putty is primitive, better to use terminal or some advanced tools in Windows other than putty.\n",
    "* Linux subsystem in Windows 10.\n",
    "* Terminal on Mac/Linux\n",
    "* We need to connect to remote servers to\n",
    " * Troubleshoot the application failure.\n",
    " * Data Related issues\n",
    "\n",
    "### Code Versioning Tools\n",
    "\n",
    "* Developers might be changing code over a period to maintain different versions of the code. They use versioning tools for that some of them are\n",
    " * Ex: SVN, CVS, Git, Bitbucket\n",
    "* For Deployment purpose we use different tools. one such popular tool today among them is Jenkins.\n",
    "* There is one more tool for issue tracking called JIRA. It provides the complete set of recording, reporting, workflow, and other features. It is a tool that integrates directly with the code development thus makes fit for developers as well.\n",
    "\n",
    "# File Management Tools\n",
    "\n",
    "***Copying Files***\n",
    "\n",
    "* We use File Management tools frequently to copy a jar file to production/test server or troubleshoot data related issues we need to copy files from production/test server to local machine.\n",
    "* Some of them are\n",
    " * scp on terminal(mac/linux/cygwin on windows)\n",
    " * Other windows tools (WinScp, FileZilla)\n",
    " \n",
    "***Comparing Files***\n",
    "\n",
    "* Diff tool on Linux or Mac to compare the files.\n",
    "* Most of the editors in Windows comes with inbuilt diff tool such as notepad++, textpad.\n",
    "* We can even configure the diff tool on IDE’s such as IntelliJ, Eclipse and pycharm and we can ask the diff tool to get the differences between the versions of code. Some IDE’s comes with inbuilt diff tool.\n",
    "* Beyond Compare is popular diff tool in Windows.\n"
   ]
  }
 ],
 "metadata": {
  "kernelspec": {
   "display_name": "Pyspark 2",
   "language": "python",
   "name": "pyspark2"
  },
  "language_info": {
   "codemirror_mode": {
    "name": "ipython",
    "version": 3
   },
   "file_extension": ".py",
   "mimetype": "text/x-python",
   "name": "python",
   "nbconvert_exporter": "python",
   "pygments_lexer": "ipython3",
   "version": "3.6.8"
  }
 },
 "nbformat": 4,
 "nbformat_minor": 4
}
